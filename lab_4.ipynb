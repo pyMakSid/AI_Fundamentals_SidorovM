{
 "cells": [
  {
   "cell_type": "markdown",
   "metadata": {},
   "source": [
    "# 4. Восстановление функции распренделения вероятности\n",
    "    1. Реализовать метод восстановления плотности вероятности двумя способами:\n",
    "        1. EM-алгоритм\n",
    "        2. Ядерное сглаживание\n",
    "    2. Применить данные методы на любом наборе случайных точек\n",
    "    3. Реализовать метод Метрополиса-Гастингса и Гибсона для несимметричного распределения. Применить два метода на основе той функции плотности, которая была восстановлена в прошлом пункте, тем самым получив изначальные точки.\n",
    "    4. в методе М-Г нарисовать картинку блуждания в случае 3D-функции плотности (на доп баллы)\n",
    "    5. Сравнить красный и синий набор точек (сгенерированые и исходные) (с помощью Расстояния Кульбака-Лейблера)"
   ]
  },
  {
   "cell_type": "code",
   "execution_count": 11,
   "metadata": {},
   "outputs": [
    {
     "data": {
      "text/plain": [
       "<Axes: ylabel='Count'>"
      ]
     },
     "execution_count": 11,
     "metadata": {},
     "output_type": "execute_result"
    },
    {
     "data": {
      "image/png": "[encoded data removed]",
      "text/plain": [
       "<Figure size 640x480 with 1 Axes>"
      ]
     },
     "metadata": {},
     "output_type": "display_data"
    }
   ],
   "source": [
    "import numpy as np\n",
    "import matplotlib.pyplot as plt\n",
    "import seaborn as sns\n",
    "from scipy.stats import multivariate_normal\n",
    "from sklearn.datasets import make_blobs\n",
    "\n",
    "\n",
    "X, _ = make_blobs(n_samples=500, centers=2, random_state=0, n_features=1)\n",
    "sns.histplot(X, binwidth=0.5)"
   ]
  },
  {
   "cell_type": "code",
   "execution_count": 12,
   "metadata": {},
   "outputs": [
    {
     "name": "stdout",
     "output_type": "stream",
     "text": [
      "Весовые коэффициенты: [0.51917322 0.48082678]\n",
      "Средние значения: [[4.17603626]\n",
      " [0.92123954]]\n",
      "Ковариационные матрицы: [[[1.01065103]]\n",
      "\n",
      " [[0.86530536]]]\n"
     ]
    }
   ],
   "source": [
    "def initialize_parameters(X, num_components):\n",
    "    np.random.seed(0)\n",
    "    n, d = X.shape\n",
    "    weights = np.ones(num_components) / num_components\n",
    "    means = X[np.random.choice(n, num_components, replace=False)]\n",
    "    covariances = np.array([np.eye(d)] * num_components)\n",
    "    return weights, means, covariances\n",
    "\n",
    "\n",
    "def e_step(X, weights, means, covariances):\n",
    "    num_components = len(weights)\n",
    "    n = X.shape[0]\n",
    "    responsibilities = np.zeros((n, num_components))\n",
    "\n",
    "    for k in range(num_components):\n",
    "        pdf = multivariate_normal.pdf(X, mean=means[k], cov=covariances[k])\n",
    "        responsibilities[:, k] = weights[k] * pdf\n",
    "\n",
    "    responsibilities /= responsibilities.sum(axis=1, keepdims=True)\n",
    "    return responsibilities\n",
    "\n",
    "\n",
    "def m_step(X, responsibilities):\n",
    "    n, d = X.shape\n",
    "    num_components = responsibilities.shape[1]\n",
    "    weights = responsibilities.sum(axis=0) / n\n",
    "    means = np.dot(responsibilities.T, X) / responsibilities.sum(axis=0)[:, np.newaxis]\n",
    "\n",
    "    covariances = []\n",
    "    for k in range(num_components):\n",
    "        diff = X - means[k]\n",
    "        cov = np.dot(responsibilities[:, k] * diff.T, diff) / responsibilities[:, k].sum()\n",
    "        covariances.append(cov)\n",
    "    covariances = np.array(covariances)\n",
    "\n",
    "    return weights, means, covariances\n",
    "\n",
    "\n",
    "def log_likelihood(X, weights, means, covariances):\n",
    "    num_components = len(weights)\n",
    "    log_likelihood = 0\n",
    "\n",
    "    for k in range(num_components):\n",
    "        pdf = multivariate_normal.pdf(X, mean=means[k], cov=covariances[k])\n",
    "        log_likelihood += weights[k] * pdf\n",
    "\n",
    "    return np.log(log_likelihood).sum()\n",
    "\n",
    "\n",
    "def em_algorithm(X, num_components, max_iter=100, tol=1e-6):\n",
    "    weights, means, covariances = initialize_parameters(X, num_components)\n",
    "    log_likelihoods = []\n",
    "\n",
    "    for iteration in range(max_iter):\n",
    "        responsibilities = e_step(X, weights, means, covariances)\n",
    "        weights, means, covariances = m_step(X, responsibilities)\n",
    "        log_likelihood_val = log_likelihood(X, weights, means, covariances)\n",
    "        log_likelihoods.append(log_likelihood_val)\n",
    "\n",
    "        if iteration > 0 and np.abs(log_likelihoods[-1] - log_likelihoods[-2]) < tol:\n",
    "            break\n",
    "\n",
    "    return weights, means, covariances, log_likelihoods\n",
    "\n",
    "num_components = 2\n",
    "weights, means, covariances, log_likelihoods = em_algorithm(X, num_components)\n",
    "\n",
    "# Вывод результата\n",
    "print(\"Весовые коэффициенты:\", weights)\n",
    "print(\"Средние значения:\", means)\n",
    "print(\"Ковариационные матрицы:\", covariances)"
   ]
  }
 ],
 "metadata": {
  "language_info": {
   "name": "python"
  }
 },
 "nbformat": 4,
 "nbformat_minor": 2
}
