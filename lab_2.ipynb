{
 "cells": [
  {
   "cell_type": "markdown",
   "metadata": {},
   "source": [
    "2. Глобальная оптимизация и метаэврестические алгоритмы:\n",
    "    В Pygmo запрогроммировать две своих тестовых функции и найти их оптимум 3 разными алгоритмами доступными в библиотеке и получить таблицу сравнения"
   ]
  },
  {
   "cell_type": "code",
   "execution_count": 120,
   "metadata": {},
   "outputs": [],
   "source": [
    "import pygmo as pg\n",
    "from math import cos, exp, pi"
   ]
  },
  {
   "cell_type": "markdown",
   "metadata": {},
   "source": [
    "### В качестве алгоритмов используются\n",
    "\n",
    "1. pygmo.gaco - Extended Ant Colony Optimization algorithm (gaco).\n",
    "2. pygmo.gwo - Grey Wolf Optimizer\n",
    "3. pygmo.de - Differential Evolution"
   ]
  },
  {
   "cell_type": "markdown",
   "metadata": {},
   "source": [
    "#### 1. Функция Стыбинского-Танга:\n",
    "\n",
    "$\\ f(x) = \\frac {\\sum_{i=1}^n ( x_i ^ 4 - 16x_i ^ 2 + 5x_i )}{2}$\n",
    "\n",
    "solution:\n",
    "-39.16617n < f(-2.903534) < -39.16616n"
   ]
  },
  {
   "cell_type": "code",
   "execution_count": 121,
   "metadata": {},
   "outputs": [
    {
     "name": "stdout",
     "output_type": "stream",
     "text": [
      "-117.49851000000001\n"
     ]
    }
   ],
   "source": [
    "class Stibin_Tanga_func:\n",
    "\n",
    "    def __init__(self, dim):\n",
    "        self.dim = dim\n",
    "\n",
    "    def fitness(self, x):\n",
    "        return [sum(x ** 4 - 16 * x ** 2 + 5 * x) / 2]\n",
    "    \n",
    "    def get_bounds(self):\n",
    "        return ([-5] * self.dim, [5] * self.dim)\n",
    "\n",
    "problem = Stibin_Tanga_func(3)\n",
    "Stibin_Tanga_problem = pg.problem(problem)\n",
    "true_solution = -39.16617 * problem.dim\n",
    "print(true_solution)"
   ]
  },
  {
   "cell_type": "code",
   "execution_count": 122,
   "metadata": {},
   "outputs": [],
   "source": [
    "problem = Stibin_Tanga_problem"
   ]
  },
  {
   "cell_type": "code",
   "execution_count": 123,
   "metadata": {},
   "outputs": [
    {
     "name": "stdout",
     "output_type": "stream",
     "text": [
      "[-117.49841947]\n"
     ]
    }
   ],
   "source": [
    "gaco = pg.algorithm(pg.gaco(gen=100))\n",
    "pop = pg.population(problem, 70)\n",
    "pop = gaco.evolve(pop)\n",
    "print(pop.champion_f)"
   ]
  },
  {
   "cell_type": "code",
   "execution_count": 124,
   "metadata": {},
   "outputs": [
    {
     "name": "stdout",
     "output_type": "stream",
     "text": [
      "[-117.49834589]\n"
     ]
    }
   ],
   "source": [
    "gwo = pg.algorithm(pg.gwo(gen=100))\n",
    "pop = pg.population(problem, 70)\n",
    "pop = gwo.evolve(pop)\n",
    "print(pop.champion_f)"
   ]
  },
  {
   "cell_type": "code",
   "execution_count": 125,
   "metadata": {},
   "outputs": [
    {
     "name": "stdout",
     "output_type": "stream",
     "text": [
      "[-117.49849701]\n"
     ]
    }
   ],
   "source": [
    "de = pg.algorithm(pg.de(gen=100))\n",
    "pop = pg.population(problem, 70)\n",
    "pop = de.evolve(pop)\n",
    "print(pop.champion_f)"
   ]
  },
  {
   "cell_type": "markdown",
   "metadata": {},
   "source": [
    "#### 2. Функция Изома:\n",
    "$f(x,y) = -cos(x)cos(y)e^{-((x-\\pi)^2 + (y-\\pi)^2)} $\n",
    "\n",
    "Solution: 1"
   ]
  },
  {
   "cell_type": "code",
   "execution_count": 126,
   "metadata": {},
   "outputs": [],
   "source": [
    "class Izome_func:\n",
    "\n",
    "    def __init__(self, dim):\n",
    "        self.dim = dim\n",
    "\n",
    "    def fitness(self, x):\n",
    "        return [-cos(sum(x)) ** 2 * exp(-sum((x - pi) ** 2))]\n",
    "    \n",
    "    def get_bounds(self):\n",
    "        return ([-100] * self.dim, [100] * self.dim)\n",
    "\n",
    "Izome_problem = pg.problem(Izome_func(2))"
   ]
  },
  {
   "cell_type": "code",
   "execution_count": 127,
   "metadata": {},
   "outputs": [],
   "source": [
    "problem = Izome_problem"
   ]
  },
  {
   "cell_type": "code",
   "execution_count": 128,
   "metadata": {},
   "outputs": [
    {
     "name": "stdout",
     "output_type": "stream",
     "text": [
      "[-0.25458827]\n"
     ]
    }
   ],
   "source": [
    "gaco = pg.algorithm(pg.gaco(gen=100))\n",
    "pop = pg.population(problem, 70)\n",
    "pop = gaco.evolve(pop)\n",
    "print(pop.champion_f)"
   ]
  },
  {
   "cell_type": "code",
   "execution_count": 129,
   "metadata": {},
   "outputs": [
    {
     "name": "stdout",
     "output_type": "stream",
     "text": [
      "[-0.99999978]\n"
     ]
    }
   ],
   "source": [
    "gwo = pg.algorithm(pg.gwo(gen=100))\n",
    "pop = pg.population(problem, 70)\n",
    "pop = gwo.evolve(pop)\n",
    "print(pop.champion_f)"
   ]
  },
  {
   "cell_type": "code",
   "execution_count": 130,
   "metadata": {},
   "outputs": [
    {
     "name": "stdout",
     "output_type": "stream",
     "text": [
      "[-7.6981238e-51]\n"
     ]
    }
   ],
   "source": [
    "de = pg.algorithm(pg.de(gen=100))\n",
    "pop = pg.population(problem, 70)\n",
    "pop = de.evolve(pop)\n",
    "print(pop.champion_f)"
   ]
  }
 ],
 "metadata": {
  "kernelspec": {
   "display_name": "Ai_lab",
   "language": "python",
   "name": "python3"
  },
  "language_info": {
   "codemirror_mode": {
    "name": "ipython",
    "version": 3
   },
   "file_extension": ".py",
   "mimetype": "text/x-python",
   "name": "python",
   "nbconvert_exporter": "python",
   "pygments_lexer": "ipython3",
   "version": "3.12.7"
  }
 },
 "nbformat": 4,
 "nbformat_minor": 2
}
