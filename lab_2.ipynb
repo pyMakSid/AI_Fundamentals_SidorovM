{
 "cells": [
  {
   "cell_type": "markdown",
   "metadata": {},
   "source": [
    "2. Глобальная оптимизация и метаэврестические алгоритмы:\n",
    "    В Pygmo запрогроммировать две своих тестовых функции и найти их оптимум 3 разными алгоритмами доступными в библиотеке и получить таблицу сравнения"
   ]
  },
  {
   "cell_type": "code",
   "execution_count": 120,
   "metadata": {},
   "outputs": [],
   "source": [
    "import pygmo as pg\n",
    "from math import cos, exp, pi\n",
    "from scipy.optimize import minimize\n",
    "import numpy as np"
   ]
  },
  {
   "cell_type": "markdown",
   "metadata": {},
   "source": [
    "### В качестве алгоритмов используются\n",
    "\n",
    "1. pygmo.gaco - Extended Ant Colony Optimization algorithm (gaco).\n",
    "2. pygmo.gwo - Grey Wolf Optimizer\n",
    "3. pygmo.de - Differential Evolution"
   ]
  },
  {
   "cell_type": "markdown",
   "metadata": {},
   "source": [
    "#### 1. Функция Стыбинского-Танга:\n",
    "\n",
    "$\\ f(x) = \\frac {\\sum_{i=1}^n ( x_i ^ 4 - 16x_i ^ 2 + 5x_i )}{2}$\n",
    "\n",
    "solution:\n",
    "-39.16617n < f(-2.903534) < -39.16616n"
   ]
  },
  {
   "cell_type": "code",
   "execution_count": 121,
   "metadata": {},
   "outputs": [],
   "source": [
    "class Stibin_Tanga_func:\n",
    "\n",
    "    def __init__(self, dim):\n",
    "        self.dim = dim\n",
    "\n",
    "    def fitness(self, x):\n",
    "        return [sum(x ** 4 - 16 * x ** 2 + 5 * x) / 2]\n",
    "    \n",
    "    def get_bounds(self):\n",
    "        return ([-5] * self.dim, [5] * self.dim)\n",
    "\n",
    "\n",
    "def find_true_solution(func, x_init):\n",
    "    true_solution_x = minimize(func, x_init).x\n",
    "    return func(true_solution_x)"
   ]
  },
  {
   "cell_type": "code",
   "execution_count": 122,
   "metadata": {},
   "outputs": [],
   "source": [
    "problem = Stibin_Tanga_func(3)\n",
    "true_solution_Stibin_Tanga = find_true_solution(problem.fitness, x_init=np.array([0,0,0]))\n",
    "Stibin_Tanga_problem = pg.problem(problem)\n",
    "problem = Stibin_Tanga_problem"
   ]
  },
  {
   "cell_type": "code",
   "execution_count": 123,
   "metadata": {},
   "outputs": [],
   "source": [
    "gaco = pg.algorithm(pg.gaco(gen=100))\n",
    "pop = pg.population(problem, 70)\n",
    "pop = gaco.evolve(pop)\n",
    "Stibin_Tanga_problem_gaco = pop.champion_f"
   ]
  },
  {
   "cell_type": "code",
   "execution_count": 124,
   "metadata": {},
   "outputs": [],
   "source": [
    "gwo = pg.algorithm(pg.gwo(gen=100))\n",
    "pop = pg.population(problem, 70)\n",
    "pop = gwo.evolve(pop)\n",
    "Stibin_Tanga_problem_gwo = pop.champion_f"
   ]
  },
  {
   "cell_type": "code",
   "execution_count": 125,
   "metadata": {},
   "outputs": [],
   "source": [
    "de = pg.algorithm(pg.de(gen=100))\n",
    "pop = pg.population(problem, 70)\n",
    "pop = de.evolve(pop)\n",
    "Stibin_Tanga_problem_de = pop.champion_f"
   ]
  },
  {
   "cell_type": "markdown",
   "metadata": {},
   "source": [
    "#### 2. Функция Изома:\n",
    "$f(x,y) = -cos(x)cos(y)e^{-((x-\\pi)^2 + (y-\\pi)^2)} $\n",
    "\n",
    "Solution: 1"
   ]
  },
  {
   "cell_type": "code",
   "execution_count": 126,
   "metadata": {},
   "outputs": [],
   "source": [
    "class Izome_func:\n",
    "\n",
    "    def __init__(self, dim):\n",
    "        self.dim = dim\n",
    "\n",
    "    def fitness(self, x):\n",
    "        return [-cos(sum(x)) ** 2 * exp(-sum((x - pi) ** 2))]\n",
    "    \n",
    "    def get_bounds(self):\n",
    "        return ([-100] * self.dim, [100] * self.dim)"
   ]
  },
  {
   "cell_type": "code",
   "execution_count": 127,
   "metadata": {},
   "outputs": [],
   "source": [
    "Izome_problem = pg.problem(Izome_func(2))\n",
    "true_solution_Izome = find_true_solution(Izome_problem.fitness, x_init=np.array([0,0]))\n",
    "problem = Izome_problem"
   ]
  },
  {
   "cell_type": "code",
   "execution_count": 128,
   "metadata": {},
   "outputs": [],
   "source": [
    "gaco = pg.algorithm(pg.gaco(gen=100))\n",
    "pop = pg.population(problem, 70)\n",
    "pop = gaco.evolve(pop)\n",
    "Izome_problem_gaco = pop.champion_f"
   ]
  },
  {
   "cell_type": "code",
   "execution_count": 129,
   "metadata": {},
   "outputs": [],
   "source": [
    "gwo = pg.algorithm(pg.gwo(gen=100))\n",
    "pop = pg.population(problem, 70)\n",
    "pop = gwo.evolve(pop)\n",
    "Izome_problem_gwo = pop.champion_f"
   ]
  },
  {
   "cell_type": "code",
   "execution_count": 130,
   "metadata": {},
   "outputs": [],
   "source": [
    "de = pg.algorithm(pg.de(gen=100))\n",
    "pop = pg.population(problem, 70)\n",
    "pop = de.evolve(pop)\n",
    "Izome_problem_de = pop.champion_f"
   ]
  },
  {
   "cell_type": "markdown",
   "metadata": {},
   "source": [
    "## Таблица сравнения"
   ]
  },
  {
   "cell_type": "code",
   "execution_count": 131,
   "metadata": {},
   "outputs": [
    {
     "data": {
      "text/html": [
       "<div>\n",
       "<style scoped>\n",
       "    .dataframe tbody tr th:only-of-type {\n",
       "        vertical-align: middle;\n",
       "    }\n",
       "\n",
       "    .dataframe tbody tr th {\n",
       "        vertical-align: top;\n",
       "    }\n",
       "\n",
       "    .dataframe thead th {\n",
       "        text-align: right;\n",
       "    }\n",
       "</style>\n",
       "<table border=\"1\" class=\"dataframe\">\n",
       "  <thead>\n",
       "    <tr style=\"text-align: right;\">\n",
       "      <th></th>\n",
       "      <th>Stibin_Tanga</th>\n",
       "      <th>Izome</th>\n",
       "    </tr>\n",
       "  </thead>\n",
       "  <tbody>\n",
       "    <tr>\n",
       "      <th>Extended Ant Colony Optimization algorithm</th>\n",
       "      <td>-117.498429</td>\n",
       "      <td>-8.290368e-01</td>\n",
       "    </tr>\n",
       "    <tr>\n",
       "      <th>Grey Wolf Optimizer</th>\n",
       "      <td>-117.498488</td>\n",
       "      <td>-9.999994e-01</td>\n",
       "    </tr>\n",
       "    <tr>\n",
       "      <th>Differential Evolution</th>\n",
       "      <td>-117.498497</td>\n",
       "      <td>-2.480710e-17</td>\n",
       "    </tr>\n",
       "    <tr>\n",
       "      <th>True Solution</th>\n",
       "      <td>-117.498497</td>\n",
       "      <td>-2.675288e-09</td>\n",
       "    </tr>\n",
       "  </tbody>\n",
       "</table>\n",
       "</div>"
      ],
      "text/plain": [
       "                                            Stibin_Tanga         Izome\n",
       "Extended Ant Colony Optimization algorithm   -117.498429 -8.290368e-01\n",
       "Grey Wolf Optimizer                          -117.498488 -9.999994e-01\n",
       "Differential Evolution                       -117.498497 -2.480710e-17\n",
       "True Solution                                -117.498497 -2.675288e-09"
      ]
     },
     "execution_count": 131,
     "metadata": {},
     "output_type": "execute_result"
    }
   ],
   "source": [
    "import pandas as pd\n",
    "\n",
    "res_dict = {'Stibin_Tanga' : [ Stibin_Tanga_problem_gaco[0], Stibin_Tanga_problem_gwo[0], Stibin_Tanga_problem_de[0], true_solution_Stibin_Tanga[0]],\n",
    "            'Izome' : [ Izome_problem_gaco[0], Izome_problem_gwo[0], Izome_problem_de[0], true_solution_Izome[0]]}\n",
    "pd.DataFrame(data=res_dict, index=['Extended Ant Colony Optimization algorithm',\n",
    "                                   'Grey Wolf Optimizer',\n",
    "                                   'Differential Evolution',\n",
    "                                   'True Solution'])"
   ]
  }
 ],
 "metadata": {
  "kernelspec": {
   "display_name": "ai_lab",
   "language": "python",
   "name": "python3"
  },
  "language_info": {
   "codemirror_mode": {
    "name": "ipython",
    "version": 3
   },
   "file_extension": ".py",
   "mimetype": "text/x-python",
   "name": "python",
   "nbconvert_exporter": "python",
   "pygments_lexer": "ipython3",
   "version": "3.12.7"
  }
 },
 "nbformat": 4,
 "nbformat_minor": 2
}
