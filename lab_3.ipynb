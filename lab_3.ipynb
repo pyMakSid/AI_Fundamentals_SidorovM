{
 "cells": [
  {
   "cell_type": "markdown",
   "metadata": {},
   "source": [
    "# 3. Оптимизация гиперпараметров \n",
    "    1. С помощью [optuna]() взять пример, аналогичный третьему туториалу документации, используя sklearn и с другим датасетом, выбрать другие  алгоритмы классификации и клстеризации не из туториала  и визуализировать графики для полученного процесса\n",
    "    1. В качестве других моделей подойдут любые алгоритмы классификации и регрессии из sklearn которые не использовались в туториале\n",
    "    2. Использовать 2 разных семплера и прунера\n",
    "    3. При процессе оптимизации гиперпараметров использовать общую память через postgreSQL\n",
    "    4. В качестве отчёта выступают: исходный код, инструкция запуска реляционной БД. "
   ]
  },
  {
   "cell_type": "code",
   "execution_count": 16,
   "metadata": {},
   "outputs": [
    {
     "name": "stderr",
     "output_type": "stream",
     "text": [
      "[I 2024-12-22 23:22:04,468] A new study created in memory with name: no-name-22ab8bc3-b00e-4588-98f7-124c115481fc\n"
     ]
    },
    {
     "name": "stdout",
     "output_type": "stream",
     "text": [
      "A new study created in memory with name: no-name-22ab8bc3-b00e-4588-98f7-124c115481fc\n",
      "A new study created in memory with name: no-name-22ab8bc3-b00e-4588-98f7-124c115481fc\n",
      "A new study created in memory with name: no-name-22ab8bc3-b00e-4588-98f7-124c115481fc\n",
      "A new study created in memory with name: no-name-22ab8bc3-b00e-4588-98f7-124c115481fc\n"
     ]
    },
    {
     "name": "stderr",
     "output_type": "stream",
     "text": [
      "[I 2024-12-22 23:22:04,654] Trial 0 finished with value: 0.9416666666666668 and parameters: {'n_estimators': 185, 'max_depth': 15, 'min_samples_split': 20, 'min_samples_leaf': 2}. Best is trial 0 with value: 0.9416666666666668.\n"
     ]
    },
    {
     "name": "stdout",
     "output_type": "stream",
     "text": [
      "Trial 0 finished with value: 0.9416666666666668 and parameters: {'n_estimators': 185, 'max_depth': 15, 'min_samples_split': 20, 'min_samples_leaf': 2}. Best is trial 0 with value: 0.9416666666666668.\n",
      "Trial 0 finished with value: 0.9416666666666668 and parameters: {'n_estimators': 185, 'max_depth': 15, 'min_samples_split': 20, 'min_samples_leaf': 2}. Best is trial 0 with value: 0.9416666666666668.\n",
      "Trial 0 finished with value: 0.9416666666666668 and parameters: {'n_estimators': 185, 'max_depth': 15, 'min_samples_split': 20, 'min_samples_leaf': 2}. Best is trial 0 with value: 0.9416666666666668.\n",
      "Trial 0 finished with value: 0.9416666666666668 and parameters: {'n_estimators': 185, 'max_depth': 15, 'min_samples_split': 20, 'min_samples_leaf': 2}. Best is trial 0 with value: 0.9416666666666668.\n"
     ]
    },
    {
     "name": "stderr",
     "output_type": "stream",
     "text": [
      "[I 2024-12-22 23:22:04,774] Trial 1 finished with value: 0.9416666666666668 and parameters: {'n_estimators': 106, 'max_depth': 7, 'min_samples_split': 15, 'min_samples_leaf': 9}. Best is trial 0 with value: 0.9416666666666668.\n"
     ]
    },
    {
     "name": "stdout",
     "output_type": "stream",
     "text": [
      "Trial 1 finished with value: 0.9416666666666668 and parameters: {'n_estimators': 106, 'max_depth': 7, 'min_samples_split': 15, 'min_samples_leaf': 9}. Best is trial 0 with value: 0.9416666666666668.\n",
      "Trial 1 finished with value: 0.9416666666666668 and parameters: {'n_estimators': 106, 'max_depth': 7, 'min_samples_split': 15, 'min_samples_leaf': 9}. Best is trial 0 with value: 0.9416666666666668.\n",
      "Trial 1 finished with value: 0.9416666666666668 and parameters: {'n_estimators': 106, 'max_depth': 7, 'min_samples_split': 15, 'min_samples_leaf': 9}. Best is trial 0 with value: 0.9416666666666668.\n",
      "Trial 1 finished with value: 0.9416666666666668 and parameters: {'n_estimators': 106, 'max_depth': 7, 'min_samples_split': 15, 'min_samples_leaf': 9}. Best is trial 0 with value: 0.9416666666666668.\n"
     ]
    },
    {
     "name": "stderr",
     "output_type": "stream",
     "text": [
      "[I 2024-12-22 23:22:04,821] Trial 2 finished with value: 0.9500000000000001 and parameters: {'n_estimators': 47, 'max_depth': 9, 'min_samples_split': 10, 'min_samples_leaf': 16}. Best is trial 0 with value: 0.9416666666666668.\n"
     ]
    },
    {
     "name": "stdout",
     "output_type": "stream",
     "text": [
      "Trial 2 finished with value: 0.9500000000000001 and parameters: {'n_estimators': 47, 'max_depth': 9, 'min_samples_split': 10, 'min_samples_leaf': 16}. Best is trial 0 with value: 0.9416666666666668.\n",
      "Trial 2 finished with value: 0.9500000000000001 and parameters: {'n_estimators': 47, 'max_depth': 9, 'min_samples_split': 10, 'min_samples_leaf': 16}. Best is trial 0 with value: 0.9416666666666668.\n",
      "Trial 2 finished with value: 0.9500000000000001 and parameters: {'n_estimators': 47, 'max_depth': 9, 'min_samples_split': 10, 'min_samples_leaf': 16}. Best is trial 0 with value: 0.9416666666666668.\n",
      "Trial 2 finished with value: 0.9500000000000001 and parameters: {'n_estimators': 47, 'max_depth': 9, 'min_samples_split': 10, 'min_samples_leaf': 16}. Best is trial 0 with value: 0.9416666666666668.\n"
     ]
    },
    {
     "name": "stderr",
     "output_type": "stream",
     "text": [
      "[I 2024-12-22 23:22:04,992] Trial 3 finished with value: 0.9416666666666668 and parameters: {'n_estimators': 147, 'max_depth': 4, 'min_samples_split': 9, 'min_samples_leaf': 10}. Best is trial 0 with value: 0.9416666666666668.\n"
     ]
    },
    {
     "name": "stdout",
     "output_type": "stream",
     "text": [
      "Trial 3 finished with value: 0.9416666666666668 and parameters: {'n_estimators': 147, 'max_depth': 4, 'min_samples_split': 9, 'min_samples_leaf': 10}. Best is trial 0 with value: 0.9416666666666668.\n",
      "Trial 3 finished with value: 0.9416666666666668 and parameters: {'n_estimators': 147, 'max_depth': 4, 'min_samples_split': 9, 'min_samples_leaf': 10}. Best is trial 0 with value: 0.9416666666666668.\n",
      "Trial 3 finished with value: 0.9416666666666668 and parameters: {'n_estimators': 147, 'max_depth': 4, 'min_samples_split': 9, 'min_samples_leaf': 10}. Best is trial 0 with value: 0.9416666666666668.\n",
      "Trial 3 finished with value: 0.9416666666666668 and parameters: {'n_estimators': 147, 'max_depth': 4, 'min_samples_split': 9, 'min_samples_leaf': 10}. Best is trial 0 with value: 0.9416666666666668.\n"
     ]
    },
    {
     "name": "stderr",
     "output_type": "stream",
     "text": [
      "[I 2024-12-22 23:22:05,132] Trial 4 finished with value: 0.8250000000000001 and parameters: {'n_estimators': 174, 'max_depth': 18, 'min_samples_split': 4, 'min_samples_leaf': 20}. Best is trial 4 with value: 0.8250000000000001.\n"
     ]
    },
    {
     "name": "stdout",
     "output_type": "stream",
     "text": [
      "Trial 4 finished with value: 0.8250000000000001 and parameters: {'n_estimators': 174, 'max_depth': 18, 'min_samples_split': 4, 'min_samples_leaf': 20}. Best is trial 4 with value: 0.8250000000000001.\n",
      "Trial 4 finished with value: 0.8250000000000001 and parameters: {'n_estimators': 174, 'max_depth': 18, 'min_samples_split': 4, 'min_samples_leaf': 20}. Best is trial 4 with value: 0.8250000000000001.\n",
      "Trial 4 finished with value: 0.8250000000000001 and parameters: {'n_estimators': 174, 'max_depth': 18, 'min_samples_split': 4, 'min_samples_leaf': 20}. Best is trial 4 with value: 0.8250000000000001.\n",
      "Trial 4 finished with value: 0.8250000000000001 and parameters: {'n_estimators': 174, 'max_depth': 18, 'min_samples_split': 4, 'min_samples_leaf': 20}. Best is trial 4 with value: 0.8250000000000001.\n"
     ]
    },
    {
     "name": "stderr",
     "output_type": "stream",
     "text": [
      "[I 2024-12-22 23:22:05,302] Trial 5 finished with value: 0.9500000000000001 and parameters: {'n_estimators': 176, 'max_depth': 14, 'min_samples_split': 14, 'min_samples_leaf': 8}. Best is trial 4 with value: 0.8250000000000001.\n"
     ]
    },
    {
     "name": "stdout",
     "output_type": "stream",
     "text": [
      "Trial 5 finished with value: 0.9500000000000001 and parameters: {'n_estimators': 176, 'max_depth': 14, 'min_samples_split': 14, 'min_samples_leaf': 8}. Best is trial 4 with value: 0.8250000000000001.\n",
      "Trial 5 finished with value: 0.9500000000000001 and parameters: {'n_estimators': 176, 'max_depth': 14, 'min_samples_split': 14, 'min_samples_leaf': 8}. Best is trial 4 with value: 0.8250000000000001.\n",
      "Trial 5 finished with value: 0.9500000000000001 and parameters: {'n_estimators': 176, 'max_depth': 14, 'min_samples_split': 14, 'min_samples_leaf': 8}. Best is trial 4 with value: 0.8250000000000001.\n",
      "Trial 5 finished with value: 0.9500000000000001 and parameters: {'n_estimators': 176, 'max_depth': 14, 'min_samples_split': 14, 'min_samples_leaf': 8}. Best is trial 4 with value: 0.8250000000000001.\n"
     ]
    },
    {
     "name": "stderr",
     "output_type": "stream",
     "text": [
      "[I 2024-12-22 23:22:05,400] Trial 6 finished with value: 0.9583333333333334 and parameters: {'n_estimators': 115, 'max_depth': 7, 'min_samples_split': 11, 'min_samples_leaf': 16}. Best is trial 4 with value: 0.8250000000000001.\n"
     ]
    },
    {
     "name": "stdout",
     "output_type": "stream",
     "text": [
      "Trial 6 finished with value: 0.9583333333333334 and parameters: {'n_estimators': 115, 'max_depth': 7, 'min_samples_split': 11, 'min_samples_leaf': 16}. Best is trial 4 with value: 0.8250000000000001.\n",
      "Trial 6 finished with value: 0.9583333333333334 and parameters: {'n_estimators': 115, 'max_depth': 7, 'min_samples_split': 11, 'min_samples_leaf': 16}. Best is trial 4 with value: 0.8250000000000001.\n",
      "Trial 6 finished with value: 0.9583333333333334 and parameters: {'n_estimators': 115, 'max_depth': 7, 'min_samples_split': 11, 'min_samples_leaf': 16}. Best is trial 4 with value: 0.8250000000000001.\n",
      "Trial 6 finished with value: 0.9583333333333334 and parameters: {'n_estimators': 115, 'max_depth': 7, 'min_samples_split': 11, 'min_samples_leaf': 16}. Best is trial 4 with value: 0.8250000000000001.\n"
     ]
    },
    {
     "name": "stderr",
     "output_type": "stream",
     "text": [
      "[I 2024-12-22 23:22:05,550] Trial 7 finished with value: 0.9500000000000001 and parameters: {'n_estimators': 175, 'max_depth': 20, 'min_samples_split': 20, 'min_samples_leaf': 1}. Best is trial 4 with value: 0.8250000000000001.\n"
     ]
    },
    {
     "name": "stdout",
     "output_type": "stream",
     "text": [
      "Trial 7 finished with value: 0.9500000000000001 and parameters: {'n_estimators': 175, 'max_depth': 20, 'min_samples_split': 20, 'min_samples_leaf': 1}. Best is trial 4 with value: 0.8250000000000001.\n",
      "Trial 7 finished with value: 0.9500000000000001 and parameters: {'n_estimators': 175, 'max_depth': 20, 'min_samples_split': 20, 'min_samples_leaf': 1}. Best is trial 4 with value: 0.8250000000000001.\n",
      "Trial 7 finished with value: 0.9500000000000001 and parameters: {'n_estimators': 175, 'max_depth': 20, 'min_samples_split': 20, 'min_samples_leaf': 1}. Best is trial 4 with value: 0.8250000000000001.\n",
      "Trial 7 finished with value: 0.9500000000000001 and parameters: {'n_estimators': 175, 'max_depth': 20, 'min_samples_split': 20, 'min_samples_leaf': 1}. Best is trial 4 with value: 0.8250000000000001.\n"
     ]
    },
    {
     "name": "stderr",
     "output_type": "stream",
     "text": [
      "[I 2024-12-22 23:22:05,587] Trial 8 finished with value: 0.9583333333333334 and parameters: {'n_estimators': 30, 'max_depth': 15, 'min_samples_split': 13, 'min_samples_leaf': 3}. Best is trial 4 with value: 0.8250000000000001.\n"
     ]
    },
    {
     "name": "stdout",
     "output_type": "stream",
     "text": [
      "Trial 8 finished with value: 0.9583333333333334 and parameters: {'n_estimators': 30, 'max_depth': 15, 'min_samples_split': 13, 'min_samples_leaf': 3}. Best is trial 4 with value: 0.8250000000000001.\n",
      "Trial 8 finished with value: 0.9583333333333334 and parameters: {'n_estimators': 30, 'max_depth': 15, 'min_samples_split': 13, 'min_samples_leaf': 3}. Best is trial 4 with value: 0.8250000000000001.\n",
      "Trial 8 finished with value: 0.9583333333333334 and parameters: {'n_estimators': 30, 'max_depth': 15, 'min_samples_split': 13, 'min_samples_leaf': 3}. Best is trial 4 with value: 0.8250000000000001.\n",
      "Trial 8 finished with value: 0.9583333333333334 and parameters: {'n_estimators': 30, 'max_depth': 15, 'min_samples_split': 13, 'min_samples_leaf': 3}. Best is trial 4 with value: 0.8250000000000001.\n"
     ]
    },
    {
     "name": "stderr",
     "output_type": "stream",
     "text": [
      "[I 2024-12-22 23:22:05,675] Trial 9 finished with value: 0.9416666666666668 and parameters: {'n_estimators': 103, 'max_depth': 3, 'min_samples_split': 20, 'min_samples_leaf': 13}. Best is trial 4 with value: 0.8250000000000001.\n"
     ]
    },
    {
     "name": "stdout",
     "output_type": "stream",
     "text": [
      "Trial 9 finished with value: 0.9416666666666668 and parameters: {'n_estimators': 103, 'max_depth': 3, 'min_samples_split': 20, 'min_samples_leaf': 13}. Best is trial 4 with value: 0.8250000000000001.\n",
      "Trial 9 finished with value: 0.9416666666666668 and parameters: {'n_estimators': 103, 'max_depth': 3, 'min_samples_split': 20, 'min_samples_leaf': 13}. Best is trial 4 with value: 0.8250000000000001.\n",
      "Trial 9 finished with value: 0.9416666666666668 and parameters: {'n_estimators': 103, 'max_depth': 3, 'min_samples_split': 20, 'min_samples_leaf': 13}. Best is trial 4 with value: 0.8250000000000001.\n",
      "Trial 9 finished with value: 0.9416666666666668 and parameters: {'n_estimators': 103, 'max_depth': 3, 'min_samples_split': 20, 'min_samples_leaf': 13}. Best is trial 4 with value: 0.8250000000000001.\n"
     ]
    },
    {
     "name": "stderr",
     "output_type": "stream",
     "text": [
      "[I 2024-12-22 23:22:05,721] Trial 10 finished with value: 0.9500000000000001 and parameters: {'n_estimators': 41, 'max_depth': 8, 'min_samples_split': 7, 'min_samples_leaf': 8}. Best is trial 4 with value: 0.8250000000000001.\n"
     ]
    },
    {
     "name": "stdout",
     "output_type": "stream",
     "text": [
      "Trial 10 finished with value: 0.9500000000000001 and parameters: {'n_estimators': 41, 'max_depth': 8, 'min_samples_split': 7, 'min_samples_leaf': 8}. Best is trial 4 with value: 0.8250000000000001.\n",
      "Trial 10 finished with value: 0.9500000000000001 and parameters: {'n_estimators': 41, 'max_depth': 8, 'min_samples_split': 7, 'min_samples_leaf': 8}. Best is trial 4 with value: 0.8250000000000001.\n",
      "Trial 10 finished with value: 0.9500000000000001 and parameters: {'n_estimators': 41, 'max_depth': 8, 'min_samples_split': 7, 'min_samples_leaf': 8}. Best is trial 4 with value: 0.8250000000000001.\n",
      "Trial 10 finished with value: 0.9500000000000001 and parameters: {'n_estimators': 41, 'max_depth': 8, 'min_samples_split': 7, 'min_samples_leaf': 8}. Best is trial 4 with value: 0.8250000000000001.\n"
     ]
    },
    {
     "name": "stderr",
     "output_type": "stream",
     "text": [
      "[I 2024-12-22 23:22:05,779] Trial 11 finished with value: 0.9500000000000001 and parameters: {'n_estimators': 56, 'max_depth': 3, 'min_samples_split': 8, 'min_samples_leaf': 2}. Best is trial 4 with value: 0.8250000000000001.\n"
     ]
    },
    {
     "name": "stdout",
     "output_type": "stream",
     "text": [
      "Trial 11 finished with value: 0.9500000000000001 and parameters: {'n_estimators': 56, 'max_depth': 3, 'min_samples_split': 8, 'min_samples_leaf': 2}. Best is trial 4 with value: 0.8250000000000001.\n",
      "Trial 11 finished with value: 0.9500000000000001 and parameters: {'n_estimators': 56, 'max_depth': 3, 'min_samples_split': 8, 'min_samples_leaf': 2}. Best is trial 4 with value: 0.8250000000000001.\n",
      "Trial 11 finished with value: 0.9500000000000001 and parameters: {'n_estimators': 56, 'max_depth': 3, 'min_samples_split': 8, 'min_samples_leaf': 2}. Best is trial 4 with value: 0.8250000000000001.\n",
      "Trial 11 finished with value: 0.9500000000000001 and parameters: {'n_estimators': 56, 'max_depth': 3, 'min_samples_split': 8, 'min_samples_leaf': 2}. Best is trial 4 with value: 0.8250000000000001.\n"
     ]
    },
    {
     "name": "stderr",
     "output_type": "stream",
     "text": [
      "[I 2024-12-22 23:22:05,866] Trial 12 finished with value: 0.8166666666666668 and parameters: {'n_estimators': 97, 'max_depth': 3, 'min_samples_split': 9, 'min_samples_leaf': 20}. Best is trial 12 with value: 0.8166666666666668.\n"
     ]
    },
    {
     "name": "stdout",
     "output_type": "stream",
     "text": [
      "Trial 12 finished with value: 0.8166666666666668 and parameters: {'n_estimators': 97, 'max_depth': 3, 'min_samples_split': 9, 'min_samples_leaf': 20}. Best is trial 12 with value: 0.8166666666666668.\n",
      "Trial 12 finished with value: 0.8166666666666668 and parameters: {'n_estimators': 97, 'max_depth': 3, 'min_samples_split': 9, 'min_samples_leaf': 20}. Best is trial 12 with value: 0.8166666666666668.\n",
      "Trial 12 finished with value: 0.8166666666666668 and parameters: {'n_estimators': 97, 'max_depth': 3, 'min_samples_split': 9, 'min_samples_leaf': 20}. Best is trial 12 with value: 0.8166666666666668.\n",
      "Trial 12 finished with value: 0.8166666666666668 and parameters: {'n_estimators': 97, 'max_depth': 3, 'min_samples_split': 9, 'min_samples_leaf': 20}. Best is trial 12 with value: 0.8166666666666668.\n"
     ]
    },
    {
     "name": "stderr",
     "output_type": "stream",
     "text": [
      "[I 2024-12-22 23:22:05,974] Trial 13 finished with value: 0.875 and parameters: {'n_estimators': 113, 'max_depth': 3, 'min_samples_split': 4, 'min_samples_leaf': 19}. Best is trial 12 with value: 0.8166666666666668.\n"
     ]
    },
    {
     "name": "stdout",
     "output_type": "stream",
     "text": [
      "Trial 13 finished with value: 0.875 and parameters: {'n_estimators': 113, 'max_depth': 3, 'min_samples_split': 4, 'min_samples_leaf': 19}. Best is trial 12 with value: 0.8166666666666668.\n",
      "Trial 13 finished with value: 0.875 and parameters: {'n_estimators': 113, 'max_depth': 3, 'min_samples_split': 4, 'min_samples_leaf': 19}. Best is trial 12 with value: 0.8166666666666668.\n",
      "Trial 13 finished with value: 0.875 and parameters: {'n_estimators': 113, 'max_depth': 3, 'min_samples_split': 4, 'min_samples_leaf': 19}. Best is trial 12 with value: 0.8166666666666668.\n",
      "Trial 13 finished with value: 0.875 and parameters: {'n_estimators': 113, 'max_depth': 3, 'min_samples_split': 4, 'min_samples_leaf': 19}. Best is trial 12 with value: 0.8166666666666668.\n"
     ]
    },
    {
     "name": "stderr",
     "output_type": "stream",
     "text": [
      "[I 2024-12-22 23:22:06,135] Trial 14 finished with value: 0.9500000000000001 and parameters: {'n_estimators': 188, 'max_depth': 10, 'min_samples_split': 2, 'min_samples_leaf': 13}. Best is trial 12 with value: 0.8166666666666668.\n"
     ]
    },
    {
     "name": "stdout",
     "output_type": "stream",
     "text": [
      "Trial 14 finished with value: 0.9500000000000001 and parameters: {'n_estimators': 188, 'max_depth': 10, 'min_samples_split': 2, 'min_samples_leaf': 13}. Best is trial 12 with value: 0.8166666666666668.\n",
      "Trial 14 finished with value: 0.9500000000000001 and parameters: {'n_estimators': 188, 'max_depth': 10, 'min_samples_split': 2, 'min_samples_leaf': 13}. Best is trial 12 with value: 0.8166666666666668.\n",
      "Trial 14 finished with value: 0.9500000000000001 and parameters: {'n_estimators': 188, 'max_depth': 10, 'min_samples_split': 2, 'min_samples_leaf': 13}. Best is trial 12 with value: 0.8166666666666668.\n",
      "Trial 14 finished with value: 0.9500000000000001 and parameters: {'n_estimators': 188, 'max_depth': 10, 'min_samples_split': 2, 'min_samples_leaf': 13}. Best is trial 12 with value: 0.8166666666666668.\n"
     ]
    },
    {
     "name": "stderr",
     "output_type": "stream",
     "text": [
      "[I 2024-12-22 23:22:06,222] Trial 15 finished with value: 0.9583333333333334 and parameters: {'n_estimators': 91, 'max_depth': 10, 'min_samples_split': 2, 'min_samples_leaf': 7}. Best is trial 12 with value: 0.8166666666666668.\n"
     ]
    },
    {
     "name": "stdout",
     "output_type": "stream",
     "text": [
      "Trial 15 finished with value: 0.9583333333333334 and parameters: {'n_estimators': 91, 'max_depth': 10, 'min_samples_split': 2, 'min_samples_leaf': 7}. Best is trial 12 with value: 0.8166666666666668.\n",
      "Trial 15 finished with value: 0.9583333333333334 and parameters: {'n_estimators': 91, 'max_depth': 10, 'min_samples_split': 2, 'min_samples_leaf': 7}. Best is trial 12 with value: 0.8166666666666668.\n",
      "Trial 15 finished with value: 0.9583333333333334 and parameters: {'n_estimators': 91, 'max_depth': 10, 'min_samples_split': 2, 'min_samples_leaf': 7}. Best is trial 12 with value: 0.8166666666666668.\n",
      "Trial 15 finished with value: 0.9583333333333334 and parameters: {'n_estimators': 91, 'max_depth': 10, 'min_samples_split': 2, 'min_samples_leaf': 7}. Best is trial 12 with value: 0.8166666666666668.\n"
     ]
    },
    {
     "name": "stderr",
     "output_type": "stream",
     "text": [
      "[I 2024-12-22 23:22:06,259] Trial 16 finished with value: 0.9500000000000001 and parameters: {'n_estimators': 24, 'max_depth': 15, 'min_samples_split': 20, 'min_samples_leaf': 11}. Best is trial 12 with value: 0.8166666666666668.\n"
     ]
    },
    {
     "name": "stdout",
     "output_type": "stream",
     "text": [
      "Trial 16 finished with value: 0.9500000000000001 and parameters: {'n_estimators': 24, 'max_depth': 15, 'min_samples_split': 20, 'min_samples_leaf': 11}. Best is trial 12 with value: 0.8166666666666668.\n",
      "Trial 16 finished with value: 0.9500000000000001 and parameters: {'n_estimators': 24, 'max_depth': 15, 'min_samples_split': 20, 'min_samples_leaf': 11}. Best is trial 12 with value: 0.8166666666666668.\n",
      "Trial 16 finished with value: 0.9500000000000001 and parameters: {'n_estimators': 24, 'max_depth': 15, 'min_samples_split': 20, 'min_samples_leaf': 11}. Best is trial 12 with value: 0.8166666666666668.\n",
      "Trial 16 finished with value: 0.9500000000000001 and parameters: {'n_estimators': 24, 'max_depth': 15, 'min_samples_split': 20, 'min_samples_leaf': 11}. Best is trial 12 with value: 0.8166666666666668.\n"
     ]
    },
    {
     "name": "stderr",
     "output_type": "stream",
     "text": [
      "[I 2024-12-22 23:22:06,388] Trial 17 finished with value: 0.9583333333333334 and parameters: {'n_estimators': 146, 'max_depth': 13, 'min_samples_split': 18, 'min_samples_leaf': 12}. Best is trial 12 with value: 0.8166666666666668.\n"
     ]
    },
    {
     "name": "stdout",
     "output_type": "stream",
     "text": [
      "Trial 17 finished with value: 0.9583333333333334 and parameters: {'n_estimators': 146, 'max_depth': 13, 'min_samples_split': 18, 'min_samples_leaf': 12}. Best is trial 12 with value: 0.8166666666666668.\n",
      "Trial 17 finished with value: 0.9583333333333334 and parameters: {'n_estimators': 146, 'max_depth': 13, 'min_samples_split': 18, 'min_samples_leaf': 12}. Best is trial 12 with value: 0.8166666666666668.\n",
      "Trial 17 finished with value: 0.9583333333333334 and parameters: {'n_estimators': 146, 'max_depth': 13, 'min_samples_split': 18, 'min_samples_leaf': 12}. Best is trial 12 with value: 0.8166666666666668.\n",
      "Trial 17 finished with value: 0.9583333333333334 and parameters: {'n_estimators': 146, 'max_depth': 13, 'min_samples_split': 18, 'min_samples_leaf': 12}. Best is trial 12 with value: 0.8166666666666668.\n"
     ]
    },
    {
     "name": "stderr",
     "output_type": "stream",
     "text": [
      "[I 2024-12-22 23:22:06,414] Trial 18 finished with value: 0.9500000000000001 and parameters: {'n_estimators': 11, 'max_depth': 12, 'min_samples_split': 7, 'min_samples_leaf': 15}. Best is trial 12 with value: 0.8166666666666668.\n"
     ]
    },
    {
     "name": "stdout",
     "output_type": "stream",
     "text": [
      "Trial 18 finished with value: 0.9500000000000001 and parameters: {'n_estimators': 11, 'max_depth': 12, 'min_samples_split': 7, 'min_samples_leaf': 15}. Best is trial 12 with value: 0.8166666666666668.\n",
      "Trial 18 finished with value: 0.9500000000000001 and parameters: {'n_estimators': 11, 'max_depth': 12, 'min_samples_split': 7, 'min_samples_leaf': 15}. Best is trial 12 with value: 0.8166666666666668.\n",
      "Trial 18 finished with value: 0.9500000000000001 and parameters: {'n_estimators': 11, 'max_depth': 12, 'min_samples_split': 7, 'min_samples_leaf': 15}. Best is trial 12 with value: 0.8166666666666668.\n",
      "Trial 18 finished with value: 0.9500000000000001 and parameters: {'n_estimators': 11, 'max_depth': 12, 'min_samples_split': 7, 'min_samples_leaf': 15}. Best is trial 12 with value: 0.8166666666666668.\n"
     ]
    },
    {
     "name": "stderr",
     "output_type": "stream",
     "text": [
      "[I 2024-12-22 23:22:06,626] Trial 19 finished with value: 0.9583333333333334 and parameters: {'n_estimators': 194, 'max_depth': 28, 'min_samples_split': 16, 'min_samples_leaf': 13}. Best is trial 12 with value: 0.8166666666666668.\n"
     ]
    },
    {
     "name": "stdout",
     "output_type": "stream",
     "text": [
      "Trial 19 finished with value: 0.9583333333333334 and parameters: {'n_estimators': 194, 'max_depth': 28, 'min_samples_split': 16, 'min_samples_leaf': 13}. Best is trial 12 with value: 0.8166666666666668.\n",
      "Trial 19 finished with value: 0.9583333333333334 and parameters: {'n_estimators': 194, 'max_depth': 28, 'min_samples_split': 16, 'min_samples_leaf': 13}. Best is trial 12 with value: 0.8166666666666668.\n",
      "Trial 19 finished with value: 0.9583333333333334 and parameters: {'n_estimators': 194, 'max_depth': 28, 'min_samples_split': 16, 'min_samples_leaf': 13}. Best is trial 12 with value: 0.8166666666666668.\n",
      "Trial 19 finished with value: 0.9583333333333334 and parameters: {'n_estimators': 194, 'max_depth': 28, 'min_samples_split': 16, 'min_samples_leaf': 13}. Best is trial 12 with value: 0.8166666666666668.\n"
     ]
    },
    {
     "name": "stderr",
     "output_type": "stream",
     "text": [
      "[I 2024-12-22 23:22:06,723] Trial 20 finished with value: 0.9166666666666666 and parameters: {'n_estimators': 116, 'max_depth': 29, 'min_samples_split': 7, 'min_samples_leaf': 18}. Best is trial 12 with value: 0.8166666666666668.\n"
     ]
    },
    {
     "name": "stdout",
     "output_type": "stream",
     "text": [
      "Trial 20 finished with value: 0.9166666666666666 and parameters: {'n_estimators': 116, 'max_depth': 29, 'min_samples_split': 7, 'min_samples_leaf': 18}. Best is trial 12 with value: 0.8166666666666668.\n",
      "Trial 20 finished with value: 0.9166666666666666 and parameters: {'n_estimators': 116, 'max_depth': 29, 'min_samples_split': 7, 'min_samples_leaf': 18}. Best is trial 12 with value: 0.8166666666666668.\n",
      "Trial 20 finished with value: 0.9166666666666666 and parameters: {'n_estimators': 116, 'max_depth': 29, 'min_samples_split': 7, 'min_samples_leaf': 18}. Best is trial 12 with value: 0.8166666666666668.\n",
      "Trial 20 finished with value: 0.9166666666666666 and parameters: {'n_estimators': 116, 'max_depth': 29, 'min_samples_split': 7, 'min_samples_leaf': 18}. Best is trial 12 with value: 0.8166666666666668.\n"
     ]
    },
    {
     "name": "stderr",
     "output_type": "stream",
     "text": [
      "[I 2024-12-22 23:22:06,801] Trial 21 finished with value: 0.9583333333333334 and parameters: {'n_estimators': 80, 'max_depth': 22, 'min_samples_split': 11, 'min_samples_leaf': 2}. Best is trial 12 with value: 0.8166666666666668.\n"
     ]
    },
    {
     "name": "stdout",
     "output_type": "stream",
     "text": [
      "Trial 21 finished with value: 0.9583333333333334 and parameters: {'n_estimators': 80, 'max_depth': 22, 'min_samples_split': 11, 'min_samples_leaf': 2}. Best is trial 12 with value: 0.8166666666666668.\n",
      "Trial 21 finished with value: 0.9583333333333334 and parameters: {'n_estimators': 80, 'max_depth': 22, 'min_samples_split': 11, 'min_samples_leaf': 2}. Best is trial 12 with value: 0.8166666666666668.\n",
      "Trial 21 finished with value: 0.9583333333333334 and parameters: {'n_estimators': 80, 'max_depth': 22, 'min_samples_split': 11, 'min_samples_leaf': 2}. Best is trial 12 with value: 0.8166666666666668.\n",
      "Trial 21 finished with value: 0.9583333333333334 and parameters: {'n_estimators': 80, 'max_depth': 22, 'min_samples_split': 11, 'min_samples_leaf': 2}. Best is trial 12 with value: 0.8166666666666668.\n"
     ]
    },
    {
     "name": "stderr",
     "output_type": "stream",
     "text": [
      "[I 2024-12-22 23:22:06,869] Trial 22 finished with value: 0.9416666666666668 and parameters: {'n_estimators': 65, 'max_depth': 14, 'min_samples_split': 12, 'min_samples_leaf': 9}. Best is trial 12 with value: 0.8166666666666668.\n"
     ]
    },
    {
     "name": "stdout",
     "output_type": "stream",
     "text": [
      "Trial 22 finished with value: 0.9416666666666668 and parameters: {'n_estimators': 65, 'max_depth': 14, 'min_samples_split': 12, 'min_samples_leaf': 9}. Best is trial 12 with value: 0.8166666666666668.\n",
      "Trial 22 finished with value: 0.9416666666666668 and parameters: {'n_estimators': 65, 'max_depth': 14, 'min_samples_split': 12, 'min_samples_leaf': 9}. Best is trial 12 with value: 0.8166666666666668.\n",
      "Trial 22 finished with value: 0.9416666666666668 and parameters: {'n_estimators': 65, 'max_depth': 14, 'min_samples_split': 12, 'min_samples_leaf': 9}. Best is trial 12 with value: 0.8166666666666668.\n",
      "Trial 22 finished with value: 0.9416666666666668 and parameters: {'n_estimators': 65, 'max_depth': 14, 'min_samples_split': 12, 'min_samples_leaf': 9}. Best is trial 12 with value: 0.8166666666666668.\n"
     ]
    },
    {
     "name": "stderr",
     "output_type": "stream",
     "text": [
      "[I 2024-12-22 23:22:07,008] Trial 23 finished with value: 0.9166666666666666 and parameters: {'n_estimators': 164, 'max_depth': 8, 'min_samples_split': 20, 'min_samples_leaf': 18}. Best is trial 12 with value: 0.8166666666666668.\n"
     ]
    },
    {
     "name": "stdout",
     "output_type": "stream",
     "text": [
      "Trial 23 finished with value: 0.9166666666666666 and parameters: {'n_estimators': 164, 'max_depth': 8, 'min_samples_split': 20, 'min_samples_leaf': 18}. Best is trial 12 with value: 0.8166666666666668.\n",
      "Trial 23 finished with value: 0.9166666666666666 and parameters: {'n_estimators': 164, 'max_depth': 8, 'min_samples_split': 20, 'min_samples_leaf': 18}. Best is trial 12 with value: 0.8166666666666668.\n",
      "Trial 23 finished with value: 0.9166666666666666 and parameters: {'n_estimators': 164, 'max_depth': 8, 'min_samples_split': 20, 'min_samples_leaf': 18}. Best is trial 12 with value: 0.8166666666666668.\n",
      "Trial 23 finished with value: 0.9166666666666666 and parameters: {'n_estimators': 164, 'max_depth': 8, 'min_samples_split': 20, 'min_samples_leaf': 18}. Best is trial 12 with value: 0.8166666666666668.\n"
     ]
    },
    {
     "name": "stderr",
     "output_type": "stream",
     "text": [
      "[I 2024-12-22 23:22:07,054] Trial 24 finished with value: 0.9583333333333334 and parameters: {'n_estimators': 36, 'max_depth': 3, 'min_samples_split': 4, 'min_samples_leaf': 17}. Best is trial 12 with value: 0.8166666666666668.\n"
     ]
    },
    {
     "name": "stdout",
     "output_type": "stream",
     "text": [
      "Trial 24 finished with value: 0.9583333333333334 and parameters: {'n_estimators': 36, 'max_depth': 3, 'min_samples_split': 4, 'min_samples_leaf': 17}. Best is trial 12 with value: 0.8166666666666668.\n",
      "Trial 24 finished with value: 0.9583333333333334 and parameters: {'n_estimators': 36, 'max_depth': 3, 'min_samples_split': 4, 'min_samples_leaf': 17}. Best is trial 12 with value: 0.8166666666666668.\n",
      "Trial 24 finished with value: 0.9583333333333334 and parameters: {'n_estimators': 36, 'max_depth': 3, 'min_samples_split': 4, 'min_samples_leaf': 17}. Best is trial 12 with value: 0.8166666666666668.\n",
      "Trial 24 finished with value: 0.9583333333333334 and parameters: {'n_estimators': 36, 'max_depth': 3, 'min_samples_split': 4, 'min_samples_leaf': 17}. Best is trial 12 with value: 0.8166666666666668.\n"
     ]
    },
    {
     "name": "stderr",
     "output_type": "stream",
     "text": [
      "[I 2024-12-22 23:22:07,081] Trial 25 finished with value: 0.9416666666666668 and parameters: {'n_estimators': 17, 'max_depth': 30, 'min_samples_split': 4, 'min_samples_leaf': 6}. Best is trial 12 with value: 0.8166666666666668.\n"
     ]
    },
    {
     "name": "stdout",
     "output_type": "stream",
     "text": [
      "Trial 25 finished with value: 0.9416666666666668 and parameters: {'n_estimators': 17, 'max_depth': 30, 'min_samples_split': 4, 'min_samples_leaf': 6}. Best is trial 12 with value: 0.8166666666666668.\n",
      "Trial 25 finished with value: 0.9416666666666668 and parameters: {'n_estimators': 17, 'max_depth': 30, 'min_samples_split': 4, 'min_samples_leaf': 6}. Best is trial 12 with value: 0.8166666666666668.\n",
      "Trial 25 finished with value: 0.9416666666666668 and parameters: {'n_estimators': 17, 'max_depth': 30, 'min_samples_split': 4, 'min_samples_leaf': 6}. Best is trial 12 with value: 0.8166666666666668.\n",
      "Trial 25 finished with value: 0.9416666666666668 and parameters: {'n_estimators': 17, 'max_depth': 30, 'min_samples_split': 4, 'min_samples_leaf': 6}. Best is trial 12 with value: 0.8166666666666668.\n"
     ]
    },
    {
     "name": "stderr",
     "output_type": "stream",
     "text": [
      "[I 2024-12-22 23:22:07,150] Trial 26 finished with value: 0.9500000000000001 and parameters: {'n_estimators': 43, 'max_depth': 14, 'min_samples_split': 2, 'min_samples_leaf': 16}. Best is trial 12 with value: 0.8166666666666668.\n"
     ]
    },
    {
     "name": "stdout",
     "output_type": "stream",
     "text": [
      "Trial 26 finished with value: 0.9500000000000001 and parameters: {'n_estimators': 43, 'max_depth': 14, 'min_samples_split': 2, 'min_samples_leaf': 16}. Best is trial 12 with value: 0.8166666666666668.\n",
      "Trial 26 finished with value: 0.9500000000000001 and parameters: {'n_estimators': 43, 'max_depth': 14, 'min_samples_split': 2, 'min_samples_leaf': 16}. Best is trial 12 with value: 0.8166666666666668.\n",
      "Trial 26 finished with value: 0.9500000000000001 and parameters: {'n_estimators': 43, 'max_depth': 14, 'min_samples_split': 2, 'min_samples_leaf': 16}. Best is trial 12 with value: 0.8166666666666668.\n",
      "Trial 26 finished with value: 0.9500000000000001 and parameters: {'n_estimators': 43, 'max_depth': 14, 'min_samples_split': 2, 'min_samples_leaf': 16}. Best is trial 12 with value: 0.8166666666666668.\n"
     ]
    },
    {
     "name": "stderr",
     "output_type": "stream",
     "text": [
      "[I 2024-12-22 23:22:07,207] Trial 27 finished with value: 0.9500000000000001 and parameters: {'n_estimators': 59, 'max_depth': 20, 'min_samples_split': 8, 'min_samples_leaf': 16}. Best is trial 12 with value: 0.8166666666666668.\n"
     ]
    },
    {
     "name": "stdout",
     "output_type": "stream",
     "text": [
      "Trial 27 finished with value: 0.9500000000000001 and parameters: {'n_estimators': 59, 'max_depth': 20, 'min_samples_split': 8, 'min_samples_leaf': 16}. Best is trial 12 with value: 0.8166666666666668.\n",
      "Trial 27 finished with value: 0.9500000000000001 and parameters: {'n_estimators': 59, 'max_depth': 20, 'min_samples_split': 8, 'min_samples_leaf': 16}. Best is trial 12 with value: 0.8166666666666668.\n",
      "Trial 27 finished with value: 0.9500000000000001 and parameters: {'n_estimators': 59, 'max_depth': 20, 'min_samples_split': 8, 'min_samples_leaf': 16}. Best is trial 12 with value: 0.8166666666666668.\n",
      "Trial 27 finished with value: 0.9500000000000001 and parameters: {'n_estimators': 59, 'max_depth': 20, 'min_samples_split': 8, 'min_samples_leaf': 16}. Best is trial 12 with value: 0.8166666666666668.\n"
     ]
    },
    {
     "name": "stderr",
     "output_type": "stream",
     "text": [
      "[I 2024-12-22 23:22:07,285] Trial 28 finished with value: 0.9500000000000001 and parameters: {'n_estimators': 90, 'max_depth': 22, 'min_samples_split': 20, 'min_samples_leaf': 15}. Best is trial 12 with value: 0.8166666666666668.\n"
     ]
    },
    {
     "name": "stdout",
     "output_type": "stream",
     "text": [
      "Trial 28 finished with value: 0.9500000000000001 and parameters: {'n_estimators': 90, 'max_depth': 22, 'min_samples_split': 20, 'min_samples_leaf': 15}. Best is trial 12 with value: 0.8166666666666668.\n",
      "Trial 28 finished with value: 0.9500000000000001 and parameters: {'n_estimators': 90, 'max_depth': 22, 'min_samples_split': 20, 'min_samples_leaf': 15}. Best is trial 12 with value: 0.8166666666666668.\n",
      "Trial 28 finished with value: 0.9500000000000001 and parameters: {'n_estimators': 90, 'max_depth': 22, 'min_samples_split': 20, 'min_samples_leaf': 15}. Best is trial 12 with value: 0.8166666666666668.\n",
      "Trial 28 finished with value: 0.9500000000000001 and parameters: {'n_estimators': 90, 'max_depth': 22, 'min_samples_split': 20, 'min_samples_leaf': 15}. Best is trial 12 with value: 0.8166666666666668.\n"
     ]
    },
    {
     "name": "stderr",
     "output_type": "stream",
     "text": [
      "[I 2024-12-22 23:22:07,342] Trial 29 finished with value: 0.8250000000000001 and parameters: {'n_estimators': 63, 'max_depth': 32, 'min_samples_split': 15, 'min_samples_leaf': 20}. Best is trial 12 with value: 0.8166666666666668.\n"
     ]
    },
    {
     "name": "stdout",
     "output_type": "stream",
     "text": [
      "Trial 29 finished with value: 0.8250000000000001 and parameters: {'n_estimators': 63, 'max_depth': 32, 'min_samples_split': 15, 'min_samples_leaf': 20}. Best is trial 12 with value: 0.8166666666666668.\n",
      "Trial 29 finished with value: 0.8250000000000001 and parameters: {'n_estimators': 63, 'max_depth': 32, 'min_samples_split': 15, 'min_samples_leaf': 20}. Best is trial 12 with value: 0.8166666666666668.\n",
      "Trial 29 finished with value: 0.8250000000000001 and parameters: {'n_estimators': 63, 'max_depth': 32, 'min_samples_split': 15, 'min_samples_leaf': 20}. Best is trial 12 with value: 0.8166666666666668.\n",
      "Trial 29 finished with value: 0.8250000000000001 and parameters: {'n_estimators': 63, 'max_depth': 32, 'min_samples_split': 15, 'min_samples_leaf': 20}. Best is trial 12 with value: 0.8166666666666668.\n"
     ]
    },
    {
     "name": "stderr",
     "output_type": "stream",
     "text": [
      "[I 2024-12-22 23:22:07,441] Trial 30 finished with value: 0.9583333333333334 and parameters: {'n_estimators': 87, 'max_depth': 6, 'min_samples_split': 15, 'min_samples_leaf': 5}. Best is trial 12 with value: 0.8166666666666668.\n"
     ]
    },
    {
     "name": "stdout",
     "output_type": "stream",
     "text": [
      "Trial 30 finished with value: 0.9583333333333334 and parameters: {'n_estimators': 87, 'max_depth': 6, 'min_samples_split': 15, 'min_samples_leaf': 5}. Best is trial 12 with value: 0.8166666666666668.\n",
      "Trial 30 finished with value: 0.9583333333333334 and parameters: {'n_estimators': 87, 'max_depth': 6, 'min_samples_split': 15, 'min_samples_leaf': 5}. Best is trial 12 with value: 0.8166666666666668.\n",
      "Trial 30 finished with value: 0.9583333333333334 and parameters: {'n_estimators': 87, 'max_depth': 6, 'min_samples_split': 15, 'min_samples_leaf': 5}. Best is trial 12 with value: 0.8166666666666668.\n",
      "Trial 30 finished with value: 0.9583333333333334 and parameters: {'n_estimators': 87, 'max_depth': 6, 'min_samples_split': 15, 'min_samples_leaf': 5}. Best is trial 12 with value: 0.8166666666666668.\n"
     ]
    },
    {
     "name": "stderr",
     "output_type": "stream",
     "text": [
      "[I 2024-12-22 23:22:07,508] Trial 31 finished with value: 0.8333333333333334 and parameters: {'n_estimators': 72, 'max_depth': 10, 'min_samples_split': 18, 'min_samples_leaf': 20}. Best is trial 12 with value: 0.8166666666666668.\n"
     ]
    },
    {
     "name": "stdout",
     "output_type": "stream",
     "text": [
      "Trial 31 finished with value: 0.8333333333333334 and parameters: {'n_estimators': 72, 'max_depth': 10, 'min_samples_split': 18, 'min_samples_leaf': 20}. Best is trial 12 with value: 0.8166666666666668.\n",
      "Trial 31 finished with value: 0.8333333333333334 and parameters: {'n_estimators': 72, 'max_depth': 10, 'min_samples_split': 18, 'min_samples_leaf': 20}. Best is trial 12 with value: 0.8166666666666668.\n",
      "Trial 31 finished with value: 0.8333333333333334 and parameters: {'n_estimators': 72, 'max_depth': 10, 'min_samples_split': 18, 'min_samples_leaf': 20}. Best is trial 12 with value: 0.8166666666666668.\n",
      "Trial 31 finished with value: 0.8333333333333334 and parameters: {'n_estimators': 72, 'max_depth': 10, 'min_samples_split': 18, 'min_samples_leaf': 20}. Best is trial 12 with value: 0.8166666666666668.\n"
     ]
    },
    {
     "name": "stderr",
     "output_type": "stream",
     "text": [
      "[I 2024-12-22 23:22:07,606] Trial 32 finished with value: 0.9583333333333334 and parameters: {'n_estimators': 115, 'max_depth': 28, 'min_samples_split': 9, 'min_samples_leaf': 17}. Best is trial 12 with value: 0.8166666666666668.\n"
     ]
    },
    {
     "name": "stdout",
     "output_type": "stream",
     "text": [
      "Trial 32 finished with value: 0.9583333333333334 and parameters: {'n_estimators': 115, 'max_depth': 28, 'min_samples_split': 9, 'min_samples_leaf': 17}. Best is trial 12 with value: 0.8166666666666668.\n",
      "Trial 32 finished with value: 0.9583333333333334 and parameters: {'n_estimators': 115, 'max_depth': 28, 'min_samples_split': 9, 'min_samples_leaf': 17}. Best is trial 12 with value: 0.8166666666666668.\n",
      "Trial 32 finished with value: 0.9583333333333334 and parameters: {'n_estimators': 115, 'max_depth': 28, 'min_samples_split': 9, 'min_samples_leaf': 17}. Best is trial 12 with value: 0.8166666666666668.\n",
      "Trial 32 finished with value: 0.9583333333333334 and parameters: {'n_estimators': 115, 'max_depth': 28, 'min_samples_split': 9, 'min_samples_leaf': 17}. Best is trial 12 with value: 0.8166666666666668.\n"
     ]
    },
    {
     "name": "stderr",
     "output_type": "stream",
     "text": [
      "[I 2024-12-22 23:22:07,663] Trial 33 finished with value: 0.9583333333333334 and parameters: {'n_estimators': 57, 'max_depth': 4, 'min_samples_split': 16, 'min_samples_leaf': 11}. Best is trial 12 with value: 0.8166666666666668.\n"
     ]
    },
    {
     "name": "stdout",
     "output_type": "stream",
     "text": [
      "Trial 33 finished with value: 0.9583333333333334 and parameters: {'n_estimators': 57, 'max_depth': 4, 'min_samples_split': 16, 'min_samples_leaf': 11}. Best is trial 12 with value: 0.8166666666666668.\n",
      "Trial 33 finished with value: 0.9583333333333334 and parameters: {'n_estimators': 57, 'max_depth': 4, 'min_samples_split': 16, 'min_samples_leaf': 11}. Best is trial 12 with value: 0.8166666666666668.\n",
      "Trial 33 finished with value: 0.9583333333333334 and parameters: {'n_estimators': 57, 'max_depth': 4, 'min_samples_split': 16, 'min_samples_leaf': 11}. Best is trial 12 with value: 0.8166666666666668.\n",
      "Trial 33 finished with value: 0.9583333333333334 and parameters: {'n_estimators': 57, 'max_depth': 4, 'min_samples_split': 16, 'min_samples_leaf': 11}. Best is trial 12 with value: 0.8166666666666668.\n"
     ]
    },
    {
     "name": "stderr",
     "output_type": "stream",
     "text": [
      "[I 2024-12-22 23:22:07,813] Trial 34 finished with value: 0.9416666666666668 and parameters: {'n_estimators': 174, 'max_depth': 14, 'min_samples_split': 17, 'min_samples_leaf': 7}. Best is trial 12 with value: 0.8166666666666668.\n"
     ]
    },
    {
     "name": "stdout",
     "output_type": "stream",
     "text": [
      "Trial 34 finished with value: 0.9416666666666668 and parameters: {'n_estimators': 174, 'max_depth': 14, 'min_samples_split': 17, 'min_samples_leaf': 7}. Best is trial 12 with value: 0.8166666666666668.\n",
      "Trial 34 finished with value: 0.9416666666666668 and parameters: {'n_estimators': 174, 'max_depth': 14, 'min_samples_split': 17, 'min_samples_leaf': 7}. Best is trial 12 with value: 0.8166666666666668.\n",
      "Trial 34 finished with value: 0.9416666666666668 and parameters: {'n_estimators': 174, 'max_depth': 14, 'min_samples_split': 17, 'min_samples_leaf': 7}. Best is trial 12 with value: 0.8166666666666668.\n",
      "Trial 34 finished with value: 0.9416666666666668 and parameters: {'n_estimators': 174, 'max_depth': 14, 'min_samples_split': 17, 'min_samples_leaf': 7}. Best is trial 12 with value: 0.8166666666666668.\n"
     ]
    },
    {
     "name": "stderr",
     "output_type": "stream",
     "text": [
      "[I 2024-12-22 23:22:07,849] Trial 35 finished with value: 0.9583333333333334 and parameters: {'n_estimators': 32, 'max_depth': 11, 'min_samples_split': 15, 'min_samples_leaf': 5}. Best is trial 12 with value: 0.8166666666666668.\n"
     ]
    },
    {
     "name": "stdout",
     "output_type": "stream",
     "text": [
      "Trial 35 finished with value: 0.9583333333333334 and parameters: {'n_estimators': 32, 'max_depth': 11, 'min_samples_split': 15, 'min_samples_leaf': 5}. Best is trial 12 with value: 0.8166666666666668.\n",
      "Trial 35 finished with value: 0.9583333333333334 and parameters: {'n_estimators': 32, 'max_depth': 11, 'min_samples_split': 15, 'min_samples_leaf': 5}. Best is trial 12 with value: 0.8166666666666668.\n",
      "Trial 35 finished with value: 0.9583333333333334 and parameters: {'n_estimators': 32, 'max_depth': 11, 'min_samples_split': 15, 'min_samples_leaf': 5}. Best is trial 12 with value: 0.8166666666666668.\n",
      "Trial 35 finished with value: 0.9583333333333334 and parameters: {'n_estimators': 32, 'max_depth': 11, 'min_samples_split': 15, 'min_samples_leaf': 5}. Best is trial 12 with value: 0.8166666666666668.\n"
     ]
    },
    {
     "name": "stderr",
     "output_type": "stream",
     "text": [
      "[I 2024-12-22 23:22:07,979] Trial 36 finished with value: 0.9583333333333334 and parameters: {'n_estimators': 104, 'max_depth': 9, 'min_samples_split': 3, 'min_samples_leaf': 16}. Best is trial 12 with value: 0.8166666666666668.\n"
     ]
    },
    {
     "name": "stdout",
     "output_type": "stream",
     "text": [
      "Trial 36 finished with value: 0.9583333333333334 and parameters: {'n_estimators': 104, 'max_depth': 9, 'min_samples_split': 3, 'min_samples_leaf': 16}. Best is trial 12 with value: 0.8166666666666668.\n",
      "Trial 36 finished with value: 0.9583333333333334 and parameters: {'n_estimators': 104, 'max_depth': 9, 'min_samples_split': 3, 'min_samples_leaf': 16}. Best is trial 12 with value: 0.8166666666666668.\n",
      "Trial 36 finished with value: 0.9583333333333334 and parameters: {'n_estimators': 104, 'max_depth': 9, 'min_samples_split': 3, 'min_samples_leaf': 16}. Best is trial 12 with value: 0.8166666666666668.\n",
      "Trial 36 finished with value: 0.9583333333333334 and parameters: {'n_estimators': 104, 'max_depth': 9, 'min_samples_split': 3, 'min_samples_leaf': 16}. Best is trial 12 with value: 0.8166666666666668.\n"
     ]
    },
    {
     "name": "stderr",
     "output_type": "stream",
     "text": [
      "[I 2024-12-22 23:22:08,147] Trial 37 finished with value: 0.9500000000000001 and parameters: {'n_estimators': 146, 'max_depth': 5, 'min_samples_split': 8, 'min_samples_leaf': 14}. Best is trial 12 with value: 0.8166666666666668.\n"
     ]
    },
    {
     "name": "stdout",
     "output_type": "stream",
     "text": [
      "Trial 37 finished with value: 0.9500000000000001 and parameters: {'n_estimators': 146, 'max_depth': 5, 'min_samples_split': 8, 'min_samples_leaf': 14}. Best is trial 12 with value: 0.8166666666666668.\n",
      "Trial 37 finished with value: 0.9500000000000001 and parameters: {'n_estimators': 146, 'max_depth': 5, 'min_samples_split': 8, 'min_samples_leaf': 14}. Best is trial 12 with value: 0.8166666666666668.\n",
      "Trial 37 finished with value: 0.9500000000000001 and parameters: {'n_estimators': 146, 'max_depth': 5, 'min_samples_split': 8, 'min_samples_leaf': 14}. Best is trial 12 with value: 0.8166666666666668.\n",
      "Trial 37 finished with value: 0.9500000000000001 and parameters: {'n_estimators': 146, 'max_depth': 5, 'min_samples_split': 8, 'min_samples_leaf': 14}. Best is trial 12 with value: 0.8166666666666668.\n"
     ]
    },
    {
     "name": "stderr",
     "output_type": "stream",
     "text": [
      "[I 2024-12-22 23:22:08,203] Trial 38 finished with value: 0.9583333333333334 and parameters: {'n_estimators': 43, 'max_depth': 5, 'min_samples_split': 19, 'min_samples_leaf': 5}. Best is trial 12 with value: 0.8166666666666668.\n"
     ]
    },
    {
     "name": "stdout",
     "output_type": "stream",
     "text": [
      "Trial 38 finished with value: 0.9583333333333334 and parameters: {'n_estimators': 43, 'max_depth': 5, 'min_samples_split': 19, 'min_samples_leaf': 5}. Best is trial 12 with value: 0.8166666666666668.\n",
      "Trial 38 finished with value: 0.9583333333333334 and parameters: {'n_estimators': 43, 'max_depth': 5, 'min_samples_split': 19, 'min_samples_leaf': 5}. Best is trial 12 with value: 0.8166666666666668.\n",
      "Trial 38 finished with value: 0.9583333333333334 and parameters: {'n_estimators': 43, 'max_depth': 5, 'min_samples_split': 19, 'min_samples_leaf': 5}. Best is trial 12 with value: 0.8166666666666668.\n",
      "Trial 38 finished with value: 0.9583333333333334 and parameters: {'n_estimators': 43, 'max_depth': 5, 'min_samples_split': 19, 'min_samples_leaf': 5}. Best is trial 12 with value: 0.8166666666666668.\n"
     ]
    },
    {
     "name": "stderr",
     "output_type": "stream",
     "text": [
      "[I 2024-12-22 23:22:08,240] Trial 39 finished with value: 0.9 and parameters: {'n_estimators': 18, 'max_depth': 12, 'min_samples_split': 13, 'min_samples_leaf': 18}. Best is trial 12 with value: 0.8166666666666668.\n"
     ]
    },
    {
     "name": "stdout",
     "output_type": "stream",
     "text": [
      "Trial 39 finished with value: 0.9 and parameters: {'n_estimators': 18, 'max_depth': 12, 'min_samples_split': 13, 'min_samples_leaf': 18}. Best is trial 12 with value: 0.8166666666666668.\n",
      "Trial 39 finished with value: 0.9 and parameters: {'n_estimators': 18, 'max_depth': 12, 'min_samples_split': 13, 'min_samples_leaf': 18}. Best is trial 12 with value: 0.8166666666666668.\n",
      "Trial 39 finished with value: 0.9 and parameters: {'n_estimators': 18, 'max_depth': 12, 'min_samples_split': 13, 'min_samples_leaf': 18}. Best is trial 12 with value: 0.8166666666666668.\n",
      "Trial 39 finished with value: 0.9 and parameters: {'n_estimators': 18, 'max_depth': 12, 'min_samples_split': 13, 'min_samples_leaf': 18}. Best is trial 12 with value: 0.8166666666666668.\n"
     ]
    },
    {
     "name": "stderr",
     "output_type": "stream",
     "text": [
      "[I 2024-12-22 23:22:08,329] Trial 40 finished with value: 0.9583333333333334 and parameters: {'n_estimators': 50, 'max_depth': 5, 'min_samples_split': 6, 'min_samples_leaf': 5}. Best is trial 12 with value: 0.8166666666666668.\n"
     ]
    },
    {
     "name": "stdout",
     "output_type": "stream",
     "text": [
      "Trial 40 finished with value: 0.9583333333333334 and parameters: {'n_estimators': 50, 'max_depth': 5, 'min_samples_split': 6, 'min_samples_leaf': 5}. Best is trial 12 with value: 0.8166666666666668.\n",
      "Trial 40 finished with value: 0.9583333333333334 and parameters: {'n_estimators': 50, 'max_depth': 5, 'min_samples_split': 6, 'min_samples_leaf': 5}. Best is trial 12 with value: 0.8166666666666668.\n",
      "Trial 40 finished with value: 0.9583333333333334 and parameters: {'n_estimators': 50, 'max_depth': 5, 'min_samples_split': 6, 'min_samples_leaf': 5}. Best is trial 12 with value: 0.8166666666666668.\n",
      "Trial 40 finished with value: 0.9583333333333334 and parameters: {'n_estimators': 50, 'max_depth': 5, 'min_samples_split': 6, 'min_samples_leaf': 5}. Best is trial 12 with value: 0.8166666666666668.\n"
     ]
    },
    {
     "name": "stderr",
     "output_type": "stream",
     "text": [
      "[I 2024-12-22 23:22:08,482] Trial 41 finished with value: 0.9416666666666668 and parameters: {'n_estimators': 127, 'max_depth': 18, 'min_samples_split': 19, 'min_samples_leaf': 9}. Best is trial 12 with value: 0.8166666666666668.\n"
     ]
    },
    {
     "name": "stdout",
     "output_type": "stream",
     "text": [
      "Trial 41 finished with value: 0.9416666666666668 and parameters: {'n_estimators': 127, 'max_depth': 18, 'min_samples_split': 19, 'min_samples_leaf': 9}. Best is trial 12 with value: 0.8166666666666668.\n",
      "Trial 41 finished with value: 0.9416666666666668 and parameters: {'n_estimators': 127, 'max_depth': 18, 'min_samples_split': 19, 'min_samples_leaf': 9}. Best is trial 12 with value: 0.8166666666666668.\n",
      "Trial 41 finished with value: 0.9416666666666668 and parameters: {'n_estimators': 127, 'max_depth': 18, 'min_samples_split': 19, 'min_samples_leaf': 9}. Best is trial 12 with value: 0.8166666666666668.\n",
      "Trial 41 finished with value: 0.9416666666666668 and parameters: {'n_estimators': 127, 'max_depth': 18, 'min_samples_split': 19, 'min_samples_leaf': 9}. Best is trial 12 with value: 0.8166666666666668.\n"
     ]
    },
    {
     "name": "stderr",
     "output_type": "stream",
     "text": [
      "[I 2024-12-22 23:22:08,519] Trial 42 finished with value: 0.9500000000000001 and parameters: {'n_estimators': 21, 'max_depth': 21, 'min_samples_split': 20, 'min_samples_leaf': 16}. Best is trial 12 with value: 0.8166666666666668.\n"
     ]
    },
    {
     "name": "stdout",
     "output_type": "stream",
     "text": [
      "Trial 42 finished with value: 0.9500000000000001 and parameters: {'n_estimators': 21, 'max_depth': 21, 'min_samples_split': 20, 'min_samples_leaf': 16}. Best is trial 12 with value: 0.8166666666666668.\n",
      "Trial 42 finished with value: 0.9500000000000001 and parameters: {'n_estimators': 21, 'max_depth': 21, 'min_samples_split': 20, 'min_samples_leaf': 16}. Best is trial 12 with value: 0.8166666666666668.\n",
      "Trial 42 finished with value: 0.9500000000000001 and parameters: {'n_estimators': 21, 'max_depth': 21, 'min_samples_split': 20, 'min_samples_leaf': 16}. Best is trial 12 with value: 0.8166666666666668.\n",
      "Trial 42 finished with value: 0.9500000000000001 and parameters: {'n_estimators': 21, 'max_depth': 21, 'min_samples_split': 20, 'min_samples_leaf': 16}. Best is trial 12 with value: 0.8166666666666668.\n"
     ]
    },
    {
     "name": "stderr",
     "output_type": "stream",
     "text": [
      "[I 2024-12-22 23:22:08,672] Trial 43 finished with value: 0.9416666666666668 and parameters: {'n_estimators': 129, 'max_depth': 11, 'min_samples_split': 18, 'min_samples_leaf': 6}. Best is trial 12 with value: 0.8166666666666668.\n"
     ]
    },
    {
     "name": "stdout",
     "output_type": "stream",
     "text": [
      "Trial 43 finished with value: 0.9416666666666668 and parameters: {'n_estimators': 129, 'max_depth': 11, 'min_samples_split': 18, 'min_samples_leaf': 6}. Best is trial 12 with value: 0.8166666666666668.\n",
      "Trial 43 finished with value: 0.9416666666666668 and parameters: {'n_estimators': 129, 'max_depth': 11, 'min_samples_split': 18, 'min_samples_leaf': 6}. Best is trial 12 with value: 0.8166666666666668.\n",
      "Trial 43 finished with value: 0.9416666666666668 and parameters: {'n_estimators': 129, 'max_depth': 11, 'min_samples_split': 18, 'min_samples_leaf': 6}. Best is trial 12 with value: 0.8166666666666668.\n",
      "Trial 43 finished with value: 0.9416666666666668 and parameters: {'n_estimators': 129, 'max_depth': 11, 'min_samples_split': 18, 'min_samples_leaf': 6}. Best is trial 12 with value: 0.8166666666666668.\n"
     ]
    },
    {
     "name": "stderr",
     "output_type": "stream",
     "text": [
      "[I 2024-12-22 23:22:08,771] Trial 44 finished with value: 0.9583333333333334 and parameters: {'n_estimators': 78, 'max_depth': 17, 'min_samples_split': 9, 'min_samples_leaf': 7}. Best is trial 12 with value: 0.8166666666666668.\n"
     ]
    },
    {
     "name": "stdout",
     "output_type": "stream",
     "text": [
      "Trial 44 finished with value: 0.9583333333333334 and parameters: {'n_estimators': 78, 'max_depth': 17, 'min_samples_split': 9, 'min_samples_leaf': 7}. Best is trial 12 with value: 0.8166666666666668.\n",
      "Trial 44 finished with value: 0.9583333333333334 and parameters: {'n_estimators': 78, 'max_depth': 17, 'min_samples_split': 9, 'min_samples_leaf': 7}. Best is trial 12 with value: 0.8166666666666668.\n",
      "Trial 44 finished with value: 0.9583333333333334 and parameters: {'n_estimators': 78, 'max_depth': 17, 'min_samples_split': 9, 'min_samples_leaf': 7}. Best is trial 12 with value: 0.8166666666666668.\n",
      "Trial 44 finished with value: 0.9583333333333334 and parameters: {'n_estimators': 78, 'max_depth': 17, 'min_samples_split': 9, 'min_samples_leaf': 7}. Best is trial 12 with value: 0.8166666666666668.\n"
     ]
    },
    {
     "name": "stderr",
     "output_type": "stream",
     "text": [
      "[I 2024-12-22 23:22:08,930] Trial 45 finished with value: 0.9500000000000001 and parameters: {'n_estimators': 189, 'max_depth': 3, 'min_samples_split': 11, 'min_samples_leaf': 13}. Best is trial 12 with value: 0.8166666666666668.\n"
     ]
    },
    {
     "name": "stdout",
     "output_type": "stream",
     "text": [
      "Trial 45 finished with value: 0.9500000000000001 and parameters: {'n_estimators': 189, 'max_depth': 3, 'min_samples_split': 11, 'min_samples_leaf': 13}. Best is trial 12 with value: 0.8166666666666668.\n",
      "Trial 45 finished with value: 0.9500000000000001 and parameters: {'n_estimators': 189, 'max_depth': 3, 'min_samples_split': 11, 'min_samples_leaf': 13}. Best is trial 12 with value: 0.8166666666666668.\n",
      "Trial 45 finished with value: 0.9500000000000001 and parameters: {'n_estimators': 189, 'max_depth': 3, 'min_samples_split': 11, 'min_samples_leaf': 13}. Best is trial 12 with value: 0.8166666666666668.\n",
      "Trial 45 finished with value: 0.9500000000000001 and parameters: {'n_estimators': 189, 'max_depth': 3, 'min_samples_split': 11, 'min_samples_leaf': 13}. Best is trial 12 with value: 0.8166666666666668.\n"
     ]
    },
    {
     "name": "stderr",
     "output_type": "stream",
     "text": [
      "[I 2024-12-22 23:22:09,063] Trial 46 finished with value: 0.9416666666666668 and parameters: {'n_estimators': 104, 'max_depth': 25, 'min_samples_split': 15, 'min_samples_leaf': 15}. Best is trial 12 with value: 0.8166666666666668.\n"
     ]
    },
    {
     "name": "stdout",
     "output_type": "stream",
     "text": [
      "Trial 46 finished with value: 0.9416666666666668 and parameters: {'n_estimators': 104, 'max_depth': 25, 'min_samples_split': 15, 'min_samples_leaf': 15}. Best is trial 12 with value: 0.8166666666666668.\n",
      "Trial 46 finished with value: 0.9416666666666668 and parameters: {'n_estimators': 104, 'max_depth': 25, 'min_samples_split': 15, 'min_samples_leaf': 15}. Best is trial 12 with value: 0.8166666666666668.\n",
      "Trial 46 finished with value: 0.9416666666666668 and parameters: {'n_estimators': 104, 'max_depth': 25, 'min_samples_split': 15, 'min_samples_leaf': 15}. Best is trial 12 with value: 0.8166666666666668.\n",
      "Trial 46 finished with value: 0.9416666666666668 and parameters: {'n_estimators': 104, 'max_depth': 25, 'min_samples_split': 15, 'min_samples_leaf': 15}. Best is trial 12 with value: 0.8166666666666668.\n"
     ]
    },
    {
     "name": "stderr",
     "output_type": "stream",
     "text": [
      "[I 2024-12-22 23:22:09,140] Trial 47 finished with value: 0.9583333333333334 and parameters: {'n_estimators': 68, 'max_depth': 22, 'min_samples_split': 12, 'min_samples_leaf': 8}. Best is trial 12 with value: 0.8166666666666668.\n"
     ]
    },
    {
     "name": "stdout",
     "output_type": "stream",
     "text": [
      "Trial 47 finished with value: 0.9583333333333334 and parameters: {'n_estimators': 68, 'max_depth': 22, 'min_samples_split': 12, 'min_samples_leaf': 8}. Best is trial 12 with value: 0.8166666666666668.\n",
      "Trial 47 finished with value: 0.9583333333333334 and parameters: {'n_estimators': 68, 'max_depth': 22, 'min_samples_split': 12, 'min_samples_leaf': 8}. Best is trial 12 with value: 0.8166666666666668.\n",
      "Trial 47 finished with value: 0.9583333333333334 and parameters: {'n_estimators': 68, 'max_depth': 22, 'min_samples_split': 12, 'min_samples_leaf': 8}. Best is trial 12 with value: 0.8166666666666668.\n",
      "Trial 47 finished with value: 0.9583333333333334 and parameters: {'n_estimators': 68, 'max_depth': 22, 'min_samples_split': 12, 'min_samples_leaf': 8}. Best is trial 12 with value: 0.8166666666666668.\n"
     ]
    },
    {
     "name": "stderr",
     "output_type": "stream",
     "text": [
      "[I 2024-12-22 23:22:09,197] Trial 48 finished with value: 0.9583333333333334 and parameters: {'n_estimators': 40, 'max_depth': 27, 'min_samples_split': 7, 'min_samples_leaf': 17}. Best is trial 12 with value: 0.8166666666666668.\n"
     ]
    },
    {
     "name": "stdout",
     "output_type": "stream",
     "text": [
      "Trial 48 finished with value: 0.9583333333333334 and parameters: {'n_estimators': 40, 'max_depth': 27, 'min_samples_split': 7, 'min_samples_leaf': 17}. Best is trial 12 with value: 0.8166666666666668.\n",
      "Trial 48 finished with value: 0.9583333333333334 and parameters: {'n_estimators': 40, 'max_depth': 27, 'min_samples_split': 7, 'min_samples_leaf': 17}. Best is trial 12 with value: 0.8166666666666668.\n",
      "Trial 48 finished with value: 0.9583333333333334 and parameters: {'n_estimators': 40, 'max_depth': 27, 'min_samples_split': 7, 'min_samples_leaf': 17}. Best is trial 12 with value: 0.8166666666666668.\n",
      "Trial 48 finished with value: 0.9583333333333334 and parameters: {'n_estimators': 40, 'max_depth': 27, 'min_samples_split': 7, 'min_samples_leaf': 17}. Best is trial 12 with value: 0.8166666666666668.\n"
     ]
    },
    {
     "name": "stderr",
     "output_type": "stream",
     "text": [
      "[I 2024-12-22 23:22:09,397] Trial 49 finished with value: 0.9500000000000001 and parameters: {'n_estimators': 188, 'max_depth': 20, 'min_samples_split': 4, 'min_samples_leaf': 1}. Best is trial 12 with value: 0.8166666666666668.\n"
     ]
    },
    {
     "name": "stdout",
     "output_type": "stream",
     "text": [
      "Trial 49 finished with value: 0.9500000000000001 and parameters: {'n_estimators': 188, 'max_depth': 20, 'min_samples_split': 4, 'min_samples_leaf': 1}. Best is trial 12 with value: 0.8166666666666668.\n",
      "Trial 49 finished with value: 0.9500000000000001 and parameters: {'n_estimators': 188, 'max_depth': 20, 'min_samples_split': 4, 'min_samples_leaf': 1}. Best is trial 12 with value: 0.8166666666666668.\n",
      "Trial 49 finished with value: 0.9500000000000001 and parameters: {'n_estimators': 188, 'max_depth': 20, 'min_samples_split': 4, 'min_samples_leaf': 1}. Best is trial 12 with value: 0.8166666666666668.\n",
      "Trial 49 finished with value: 0.9500000000000001 and parameters: {'n_estimators': 188, 'max_depth': 20, 'min_samples_split': 4, 'min_samples_leaf': 1}. Best is trial 12 with value: 0.8166666666666668.\n",
      "Лучшие гиперпараметры:\n",
      "{'n_estimators': 97, 'max_depth': 3, 'min_samples_split': 9, 'min_samples_leaf': 20}\n"
     ]
    }
   ],
   "source": [
    "import optuna\n",
    "from sklearn.datasets import load_iris\n",
    "from sklearn.ensemble import RandomForestClassifier\n",
    "from sklearn.model_selection import cross_val_score, train_test_split\n",
    "\n",
    "\n",
    "data = load_iris()\n",
    "X_train, X_test, y_train, y_test = train_test_split(data.data, data.target, test_size=0.2, random_state=42)\n",
    "\n",
    "\n",
    "def objective(trial):\n",
    "    n_estimators = trial.suggest_int('n_estimators', 10, 200)\n",
    "    max_depth = trial.suggest_int('max_depth', 2, 32)\n",
    "    min_samples_split = trial.suggest_int('min_samples_split', 2, 20)\n",
    "    min_samples_leaf = trial.suggest_int('min_samples_leaf', 1, 20)\n",
    "\n",
    "    clf = RandomForestClassifier(\n",
    "        n_estimators=n_estimators, max_depth=max_depth,\n",
    "        min_samples_split=min_samples_split, min_samples_leaf=min_samples_leaf,\n",
    "        random_state=42\n",
    "    )\n",
    "\n",
    "    score = cross_val_score(clf, X_train, y_train, cv=3, n_jobs=-1, scoring='accuracy').mean()\n",
    "    return score\n",
    "\n",
    "\n",
    "\n",
    "study = optuna.create_study(sampler=optuna.samplers.RandomSampler(), pruner=optuna.pruners.MedianPruner())\n",
    "study.optimize(objective, n_trials=50)\n",
    "\n",
    "print(\"Лучшие гиперпараметры:\")\n",
    "print(study.best_params)\n"
   ]
  },
  {
   "cell_type": "code",
   "execution_count": 17,
   "metadata": {},
   "outputs": [
    {
     "name": "stderr",
     "output_type": "stream",
     "text": [
      "[I 2024-12-22 23:22:09,410] A new study created in memory with name: no-name-0a423969-a618-4c90-a25e-d79d4e0a9434\n"
     ]
    },
    {
     "name": "stdout",
     "output_type": "stream",
     "text": [
      "A new study created in memory with name: no-name-0a423969-a618-4c90-a25e-d79d4e0a9434\n",
      "A new study created in memory with name: no-name-0a423969-a618-4c90-a25e-d79d4e0a9434\n",
      "A new study created in memory with name: no-name-0a423969-a618-4c90-a25e-d79d4e0a9434\n",
      "A new study created in memory with name: no-name-0a423969-a618-4c90-a25e-d79d4e0a9434\n"
     ]
    },
    {
     "name": "stderr",
     "output_type": "stream",
     "text": [
      "[I 2024-12-22 23:22:09,470] Trial 0 finished with value: 0.9583333333333334 and parameters: {'n_estimators': 41, 'max_depth': 9, 'min_samples_split': 14, 'min_samples_leaf': 17}. Best is trial 0 with value: 0.9583333333333334.\n"
     ]
    },
    {
     "name": "stdout",
     "output_type": "stream",
     "text": [
      "Trial 0 finished with value: 0.9583333333333334 and parameters: {'n_estimators': 41, 'max_depth': 9, 'min_samples_split': 14, 'min_samples_leaf': 17}. Best is trial 0 with value: 0.9583333333333334.\n",
      "Trial 0 finished with value: 0.9583333333333334 and parameters: {'n_estimators': 41, 'max_depth': 9, 'min_samples_split': 14, 'min_samples_leaf': 17}. Best is trial 0 with value: 0.9583333333333334.\n",
      "Trial 0 finished with value: 0.9583333333333334 and parameters: {'n_estimators': 41, 'max_depth': 9, 'min_samples_split': 14, 'min_samples_leaf': 17}. Best is trial 0 with value: 0.9583333333333334.\n",
      "Trial 0 finished with value: 0.9583333333333334 and parameters: {'n_estimators': 41, 'max_depth': 9, 'min_samples_split': 14, 'min_samples_leaf': 17}. Best is trial 0 with value: 0.9583333333333334.\n"
     ]
    },
    {
     "name": "stderr",
     "output_type": "stream",
     "text": [
      "[I 2024-12-22 23:22:09,516] Trial 1 finished with value: 0.9583333333333334 and parameters: {'n_estimators': 48, 'max_depth': 24, 'min_samples_split': 11, 'min_samples_leaf': 11}. Best is trial 0 with value: 0.9583333333333334.\n"
     ]
    },
    {
     "name": "stdout",
     "output_type": "stream",
     "text": [
      "Trial 1 finished with value: 0.9583333333333334 and parameters: {'n_estimators': 48, 'max_depth': 24, 'min_samples_split': 11, 'min_samples_leaf': 11}. Best is trial 0 with value: 0.9583333333333334.\n",
      "Trial 1 finished with value: 0.9583333333333334 and parameters: {'n_estimators': 48, 'max_depth': 24, 'min_samples_split': 11, 'min_samples_leaf': 11}. Best is trial 0 with value: 0.9583333333333334.\n",
      "Trial 1 finished with value: 0.9583333333333334 and parameters: {'n_estimators': 48, 'max_depth': 24, 'min_samples_split': 11, 'min_samples_leaf': 11}. Best is trial 0 with value: 0.9583333333333334.\n",
      "Trial 1 finished with value: 0.9583333333333334 and parameters: {'n_estimators': 48, 'max_depth': 24, 'min_samples_split': 11, 'min_samples_leaf': 11}. Best is trial 0 with value: 0.9583333333333334.\n"
     ]
    },
    {
     "name": "stderr",
     "output_type": "stream",
     "text": [
      "[I 2024-12-22 23:22:09,584] Trial 2 finished with value: 0.9500000000000001 and parameters: {'n_estimators': 66, 'max_depth': 29, 'min_samples_split': 16, 'min_samples_leaf': 14}. Best is trial 2 with value: 0.9500000000000001.\n"
     ]
    },
    {
     "name": "stdout",
     "output_type": "stream",
     "text": [
      "Trial 2 finished with value: 0.9500000000000001 and parameters: {'n_estimators': 66, 'max_depth': 29, 'min_samples_split': 16, 'min_samples_leaf': 14}. Best is trial 2 with value: 0.9500000000000001.\n",
      "Trial 2 finished with value: 0.9500000000000001 and parameters: {'n_estimators': 66, 'max_depth': 29, 'min_samples_split': 16, 'min_samples_leaf': 14}. Best is trial 2 with value: 0.9500000000000001.\n",
      "Trial 2 finished with value: 0.9500000000000001 and parameters: {'n_estimators': 66, 'max_depth': 29, 'min_samples_split': 16, 'min_samples_leaf': 14}. Best is trial 2 with value: 0.9500000000000001.\n",
      "Trial 2 finished with value: 0.9500000000000001 and parameters: {'n_estimators': 66, 'max_depth': 29, 'min_samples_split': 16, 'min_samples_leaf': 14}. Best is trial 2 with value: 0.9500000000000001.\n"
     ]
    },
    {
     "name": "stderr",
     "output_type": "stream",
     "text": [
      "[I 2024-12-22 23:22:09,753] Trial 3 finished with value: 0.9583333333333334 and parameters: {'n_estimators': 192, 'max_depth': 27, 'min_samples_split': 3, 'min_samples_leaf': 5}. Best is trial 2 with value: 0.9500000000000001.\n"
     ]
    },
    {
     "name": "stdout",
     "output_type": "stream",
     "text": [
      "Trial 3 finished with value: 0.9583333333333334 and parameters: {'n_estimators': 192, 'max_depth': 27, 'min_samples_split': 3, 'min_samples_leaf': 5}. Best is trial 2 with value: 0.9500000000000001.\n",
      "Trial 3 finished with value: 0.9583333333333334 and parameters: {'n_estimators': 192, 'max_depth': 27, 'min_samples_split': 3, 'min_samples_leaf': 5}. Best is trial 2 with value: 0.9500000000000001.\n",
      "Trial 3 finished with value: 0.9583333333333334 and parameters: {'n_estimators': 192, 'max_depth': 27, 'min_samples_split': 3, 'min_samples_leaf': 5}. Best is trial 2 with value: 0.9500000000000001.\n",
      "Trial 3 finished with value: 0.9583333333333334 and parameters: {'n_estimators': 192, 'max_depth': 27, 'min_samples_split': 3, 'min_samples_leaf': 5}. Best is trial 2 with value: 0.9500000000000001.\n"
     ]
    },
    {
     "name": "stderr",
     "output_type": "stream",
     "text": [
      "[I 2024-12-22 23:22:09,801] Trial 4 finished with value: 0.9583333333333334 and parameters: {'n_estimators': 44, 'max_depth': 7, 'min_samples_split': 12, 'min_samples_leaf': 8}. Best is trial 2 with value: 0.9500000000000001.\n"
     ]
    },
    {
     "name": "stdout",
     "output_type": "stream",
     "text": [
      "Trial 4 finished with value: 0.9583333333333334 and parameters: {'n_estimators': 44, 'max_depth': 7, 'min_samples_split': 12, 'min_samples_leaf': 8}. Best is trial 2 with value: 0.9500000000000001.\n",
      "Trial 4 finished with value: 0.9583333333333334 and parameters: {'n_estimators': 44, 'max_depth': 7, 'min_samples_split': 12, 'min_samples_leaf': 8}. Best is trial 2 with value: 0.9500000000000001.\n",
      "Trial 4 finished with value: 0.9583333333333334 and parameters: {'n_estimators': 44, 'max_depth': 7, 'min_samples_split': 12, 'min_samples_leaf': 8}. Best is trial 2 with value: 0.9500000000000001.\n",
      "Trial 4 finished with value: 0.9583333333333334 and parameters: {'n_estimators': 44, 'max_depth': 7, 'min_samples_split': 12, 'min_samples_leaf': 8}. Best is trial 2 with value: 0.9500000000000001.\n"
     ]
    },
    {
     "name": "stderr",
     "output_type": "stream",
     "text": [
      "[I 2024-12-22 23:22:09,888] Trial 5 finished with value: 0.9583333333333334 and parameters: {'n_estimators': 81, 'max_depth': 29, 'min_samples_split': 17, 'min_samples_leaf': 13}. Best is trial 2 with value: 0.9500000000000001.\n"
     ]
    },
    {
     "name": "stdout",
     "output_type": "stream",
     "text": [
      "Trial 5 finished with value: 0.9583333333333334 and parameters: {'n_estimators': 81, 'max_depth': 29, 'min_samples_split': 17, 'min_samples_leaf': 13}. Best is trial 2 with value: 0.9500000000000001.\n",
      "Trial 5 finished with value: 0.9583333333333334 and parameters: {'n_estimators': 81, 'max_depth': 29, 'min_samples_split': 17, 'min_samples_leaf': 13}. Best is trial 2 with value: 0.9500000000000001.\n",
      "Trial 5 finished with value: 0.9583333333333334 and parameters: {'n_estimators': 81, 'max_depth': 29, 'min_samples_split': 17, 'min_samples_leaf': 13}. Best is trial 2 with value: 0.9500000000000001.\n",
      "Trial 5 finished with value: 0.9583333333333334 and parameters: {'n_estimators': 81, 'max_depth': 29, 'min_samples_split': 17, 'min_samples_leaf': 13}. Best is trial 2 with value: 0.9500000000000001.\n"
     ]
    },
    {
     "name": "stderr",
     "output_type": "stream",
     "text": [
      "[I 2024-12-22 23:22:10,059] Trial 6 finished with value: 0.9500000000000001 and parameters: {'n_estimators': 194, 'max_depth': 8, 'min_samples_split': 13, 'min_samples_leaf': 14}. Best is trial 2 with value: 0.9500000000000001.\n"
     ]
    },
    {
     "name": "stdout",
     "output_type": "stream",
     "text": [
      "Trial 6 finished with value: 0.9500000000000001 and parameters: {'n_estimators': 194, 'max_depth': 8, 'min_samples_split': 13, 'min_samples_leaf': 14}. Best is trial 2 with value: 0.9500000000000001.\n",
      "Trial 6 finished with value: 0.9500000000000001 and parameters: {'n_estimators': 194, 'max_depth': 8, 'min_samples_split': 13, 'min_samples_leaf': 14}. Best is trial 2 with value: 0.9500000000000001.\n",
      "Trial 6 finished with value: 0.9500000000000001 and parameters: {'n_estimators': 194, 'max_depth': 8, 'min_samples_split': 13, 'min_samples_leaf': 14}. Best is trial 2 with value: 0.9500000000000001.\n",
      "Trial 6 finished with value: 0.9500000000000001 and parameters: {'n_estimators': 194, 'max_depth': 8, 'min_samples_split': 13, 'min_samples_leaf': 14}. Best is trial 2 with value: 0.9500000000000001.\n"
     ]
    },
    {
     "name": "stderr",
     "output_type": "stream",
     "text": [
      "[I 2024-12-22 23:22:10,156] Trial 7 finished with value: 0.9583333333333334 and parameters: {'n_estimators': 104, 'max_depth': 4, 'min_samples_split': 13, 'min_samples_leaf': 5}. Best is trial 2 with value: 0.9500000000000001.\n"
     ]
    },
    {
     "name": "stdout",
     "output_type": "stream",
     "text": [
      "Trial 7 finished with value: 0.9583333333333334 and parameters: {'n_estimators': 104, 'max_depth': 4, 'min_samples_split': 13, 'min_samples_leaf': 5}. Best is trial 2 with value: 0.9500000000000001.\n",
      "Trial 7 finished with value: 0.9583333333333334 and parameters: {'n_estimators': 104, 'max_depth': 4, 'min_samples_split': 13, 'min_samples_leaf': 5}. Best is trial 2 with value: 0.9500000000000001.\n",
      "Trial 7 finished with value: 0.9583333333333334 and parameters: {'n_estimators': 104, 'max_depth': 4, 'min_samples_split': 13, 'min_samples_leaf': 5}. Best is trial 2 with value: 0.9500000000000001.\n",
      "Trial 7 finished with value: 0.9583333333333334 and parameters: {'n_estimators': 104, 'max_depth': 4, 'min_samples_split': 13, 'min_samples_leaf': 5}. Best is trial 2 with value: 0.9500000000000001.\n"
     ]
    },
    {
     "name": "stderr",
     "output_type": "stream",
     "text": [
      "[I 2024-12-22 23:22:10,275] Trial 8 finished with value: 0.9500000000000001 and parameters: {'n_estimators': 136, 'max_depth': 23, 'min_samples_split': 10, 'min_samples_leaf': 14}. Best is trial 2 with value: 0.9500000000000001.\n"
     ]
    },
    {
     "name": "stdout",
     "output_type": "stream",
     "text": [
      "Trial 8 finished with value: 0.9500000000000001 and parameters: {'n_estimators': 136, 'max_depth': 23, 'min_samples_split': 10, 'min_samples_leaf': 14}. Best is trial 2 with value: 0.9500000000000001.\n",
      "Trial 8 finished with value: 0.9500000000000001 and parameters: {'n_estimators': 136, 'max_depth': 23, 'min_samples_split': 10, 'min_samples_leaf': 14}. Best is trial 2 with value: 0.9500000000000001.\n",
      "Trial 8 finished with value: 0.9500000000000001 and parameters: {'n_estimators': 136, 'max_depth': 23, 'min_samples_split': 10, 'min_samples_leaf': 14}. Best is trial 2 with value: 0.9500000000000001.\n",
      "Trial 8 finished with value: 0.9500000000000001 and parameters: {'n_estimators': 136, 'max_depth': 23, 'min_samples_split': 10, 'min_samples_leaf': 14}. Best is trial 2 with value: 0.9500000000000001.\n"
     ]
    },
    {
     "name": "stderr",
     "output_type": "stream",
     "text": [
      "[I 2024-12-22 23:22:10,373] Trial 9 finished with value: 0.9500000000000001 and parameters: {'n_estimators': 109, 'max_depth': 18, 'min_samples_split': 8, 'min_samples_leaf': 4}. Best is trial 2 with value: 0.9500000000000001.\n"
     ]
    },
    {
     "name": "stdout",
     "output_type": "stream",
     "text": [
      "Trial 9 finished with value: 0.9500000000000001 and parameters: {'n_estimators': 109, 'max_depth': 18, 'min_samples_split': 8, 'min_samples_leaf': 4}. Best is trial 2 with value: 0.9500000000000001.\n",
      "Trial 9 finished with value: 0.9500000000000001 and parameters: {'n_estimators': 109, 'max_depth': 18, 'min_samples_split': 8, 'min_samples_leaf': 4}. Best is trial 2 with value: 0.9500000000000001.\n",
      "Trial 9 finished with value: 0.9500000000000001 and parameters: {'n_estimators': 109, 'max_depth': 18, 'min_samples_split': 8, 'min_samples_leaf': 4}. Best is trial 2 with value: 0.9500000000000001.\n",
      "Trial 9 finished with value: 0.9500000000000001 and parameters: {'n_estimators': 109, 'max_depth': 18, 'min_samples_split': 8, 'min_samples_leaf': 4}. Best is trial 2 with value: 0.9500000000000001.\n"
     ]
    },
    {
     "name": "stderr",
     "output_type": "stream",
     "text": [
      "[I 2024-12-22 23:22:10,524] Trial 10 finished with value: 0.8666666666666667 and parameters: {'n_estimators': 151, 'max_depth': 32, 'min_samples_split': 20, 'min_samples_leaf': 19}. Best is trial 10 with value: 0.8666666666666667.\n"
     ]
    },
    {
     "name": "stdout",
     "output_type": "stream",
     "text": [
      "Trial 10 finished with value: 0.8666666666666667 and parameters: {'n_estimators': 151, 'max_depth': 32, 'min_samples_split': 20, 'min_samples_leaf': 19}. Best is trial 10 with value: 0.8666666666666667.\n",
      "Trial 10 finished with value: 0.8666666666666667 and parameters: {'n_estimators': 151, 'max_depth': 32, 'min_samples_split': 20, 'min_samples_leaf': 19}. Best is trial 10 with value: 0.8666666666666667.\n",
      "Trial 10 finished with value: 0.8666666666666667 and parameters: {'n_estimators': 151, 'max_depth': 32, 'min_samples_split': 20, 'min_samples_leaf': 19}. Best is trial 10 with value: 0.8666666666666667.\n",
      "Trial 10 finished with value: 0.8666666666666667 and parameters: {'n_estimators': 151, 'max_depth': 32, 'min_samples_split': 20, 'min_samples_leaf': 19}. Best is trial 10 with value: 0.8666666666666667.\n"
     ]
    },
    {
     "name": "stderr",
     "output_type": "stream",
     "text": [
      "[I 2024-12-22 23:22:10,654] Trial 11 finished with value: 0.8166666666666668 and parameters: {'n_estimators': 146, 'max_depth': 32, 'min_samples_split': 19, 'min_samples_leaf': 20}. Best is trial 11 with value: 0.8166666666666668.\n"
     ]
    },
    {
     "name": "stdout",
     "output_type": "stream",
     "text": [
      "Trial 11 finished with value: 0.8166666666666668 and parameters: {'n_estimators': 146, 'max_depth': 32, 'min_samples_split': 19, 'min_samples_leaf': 20}. Best is trial 11 with value: 0.8166666666666668.\n",
      "Trial 11 finished with value: 0.8166666666666668 and parameters: {'n_estimators': 146, 'max_depth': 32, 'min_samples_split': 19, 'min_samples_leaf': 20}. Best is trial 11 with value: 0.8166666666666668.\n",
      "Trial 11 finished with value: 0.8166666666666668 and parameters: {'n_estimators': 146, 'max_depth': 32, 'min_samples_split': 19, 'min_samples_leaf': 20}. Best is trial 11 with value: 0.8166666666666668.\n",
      "Trial 11 finished with value: 0.8166666666666668 and parameters: {'n_estimators': 146, 'max_depth': 32, 'min_samples_split': 19, 'min_samples_leaf': 20}. Best is trial 11 with value: 0.8166666666666668.\n"
     ]
    },
    {
     "name": "stderr",
     "output_type": "stream",
     "text": [
      "[I 2024-12-22 23:22:10,805] Trial 12 finished with value: 0.8250000000000001 and parameters: {'n_estimators': 152, 'max_depth': 32, 'min_samples_split': 20, 'min_samples_leaf': 20}. Best is trial 11 with value: 0.8166666666666668.\n"
     ]
    },
    {
     "name": "stdout",
     "output_type": "stream",
     "text": [
      "Trial 12 finished with value: 0.8250000000000001 and parameters: {'n_estimators': 152, 'max_depth': 32, 'min_samples_split': 20, 'min_samples_leaf': 20}. Best is trial 11 with value: 0.8166666666666668.\n",
      "Trial 12 finished with value: 0.8250000000000001 and parameters: {'n_estimators': 152, 'max_depth': 32, 'min_samples_split': 20, 'min_samples_leaf': 20}. Best is trial 11 with value: 0.8166666666666668.\n",
      "Trial 12 finished with value: 0.8250000000000001 and parameters: {'n_estimators': 152, 'max_depth': 32, 'min_samples_split': 20, 'min_samples_leaf': 20}. Best is trial 11 with value: 0.8166666666666668.\n",
      "Trial 12 finished with value: 0.8250000000000001 and parameters: {'n_estimators': 152, 'max_depth': 32, 'min_samples_split': 20, 'min_samples_leaf': 20}. Best is trial 11 with value: 0.8166666666666668.\n"
     ]
    },
    {
     "name": "stderr",
     "output_type": "stream",
     "text": [
      "[I 2024-12-22 23:22:10,998] Trial 13 finished with value: 0.8666666666666667 and parameters: {'n_estimators': 159, 'max_depth': 17, 'min_samples_split': 20, 'min_samples_leaf': 19}. Best is trial 11 with value: 0.8166666666666668.\n"
     ]
    },
    {
     "name": "stdout",
     "output_type": "stream",
     "text": [
      "Trial 13 finished with value: 0.8666666666666667 and parameters: {'n_estimators': 159, 'max_depth': 17, 'min_samples_split': 20, 'min_samples_leaf': 19}. Best is trial 11 with value: 0.8166666666666668.\n",
      "Trial 13 finished with value: 0.8666666666666667 and parameters: {'n_estimators': 159, 'max_depth': 17, 'min_samples_split': 20, 'min_samples_leaf': 19}. Best is trial 11 with value: 0.8166666666666668.\n",
      "Trial 13 finished with value: 0.8666666666666667 and parameters: {'n_estimators': 159, 'max_depth': 17, 'min_samples_split': 20, 'min_samples_leaf': 19}. Best is trial 11 with value: 0.8166666666666668.\n",
      "Trial 13 finished with value: 0.8666666666666667 and parameters: {'n_estimators': 159, 'max_depth': 17, 'min_samples_split': 20, 'min_samples_leaf': 19}. Best is trial 11 with value: 0.8166666666666668.\n"
     ]
    },
    {
     "name": "stderr",
     "output_type": "stream",
     "text": [
      "[I 2024-12-22 23:22:11,186] Trial 14 finished with value: 0.8166666666666668 and parameters: {'n_estimators': 163, 'max_depth': 22, 'min_samples_split': 17, 'min_samples_leaf': 20}. Best is trial 11 with value: 0.8166666666666668.\n"
     ]
    },
    {
     "name": "stdout",
     "output_type": "stream",
     "text": [
      "Trial 14 finished with value: 0.8166666666666668 and parameters: {'n_estimators': 163, 'max_depth': 22, 'min_samples_split': 17, 'min_samples_leaf': 20}. Best is trial 11 with value: 0.8166666666666668.\n",
      "Trial 14 finished with value: 0.8166666666666668 and parameters: {'n_estimators': 163, 'max_depth': 22, 'min_samples_split': 17, 'min_samples_leaf': 20}. Best is trial 11 with value: 0.8166666666666668.\n",
      "Trial 14 finished with value: 0.8166666666666668 and parameters: {'n_estimators': 163, 'max_depth': 22, 'min_samples_split': 17, 'min_samples_leaf': 20}. Best is trial 11 with value: 0.8166666666666668.\n",
      "Trial 14 finished with value: 0.8166666666666668 and parameters: {'n_estimators': 163, 'max_depth': 22, 'min_samples_split': 17, 'min_samples_leaf': 20}. Best is trial 11 with value: 0.8166666666666668.\n"
     ]
    },
    {
     "name": "stderr",
     "output_type": "stream",
     "text": [
      "[I 2024-12-22 23:22:11,339] Trial 15 finished with value: 0.9583333333333334 and parameters: {'n_estimators': 124, 'max_depth': 16, 'min_samples_split': 17, 'min_samples_leaf': 16}. Best is trial 11 with value: 0.8166666666666668.\n"
     ]
    },
    {
     "name": "stdout",
     "output_type": "stream",
     "text": [
      "Trial 15 finished with value: 0.9583333333333334 and parameters: {'n_estimators': 124, 'max_depth': 16, 'min_samples_split': 17, 'min_samples_leaf': 16}. Best is trial 11 with value: 0.8166666666666668.\n",
      "Trial 15 finished with value: 0.9583333333333334 and parameters: {'n_estimators': 124, 'max_depth': 16, 'min_samples_split': 17, 'min_samples_leaf': 16}. Best is trial 11 with value: 0.8166666666666668.\n",
      "Trial 15 finished with value: 0.9583333333333334 and parameters: {'n_estimators': 124, 'max_depth': 16, 'min_samples_split': 17, 'min_samples_leaf': 16}. Best is trial 11 with value: 0.8166666666666668.\n",
      "Trial 15 finished with value: 0.9583333333333334 and parameters: {'n_estimators': 124, 'max_depth': 16, 'min_samples_split': 17, 'min_samples_leaf': 16}. Best is trial 11 with value: 0.8166666666666668.\n"
     ]
    },
    {
     "name": "stderr",
     "output_type": "stream",
     "text": [
      "[I 2024-12-22 23:22:11,532] Trial 16 finished with value: 0.9500000000000001 and parameters: {'n_estimators': 171, 'max_depth': 21, 'min_samples_split': 16, 'min_samples_leaf': 1}. Best is trial 11 with value: 0.8166666666666668.\n"
     ]
    },
    {
     "name": "stdout",
     "output_type": "stream",
     "text": [
      "Trial 16 finished with value: 0.9500000000000001 and parameters: {'n_estimators': 171, 'max_depth': 21, 'min_samples_split': 16, 'min_samples_leaf': 1}. Best is trial 11 with value: 0.8166666666666668.\n",
      "Trial 16 finished with value: 0.9500000000000001 and parameters: {'n_estimators': 171, 'max_depth': 21, 'min_samples_split': 16, 'min_samples_leaf': 1}. Best is trial 11 with value: 0.8166666666666668.\n",
      "Trial 16 finished with value: 0.9500000000000001 and parameters: {'n_estimators': 171, 'max_depth': 21, 'min_samples_split': 16, 'min_samples_leaf': 1}. Best is trial 11 with value: 0.8166666666666668.\n",
      "Trial 16 finished with value: 0.9500000000000001 and parameters: {'n_estimators': 171, 'max_depth': 21, 'min_samples_split': 16, 'min_samples_leaf': 1}. Best is trial 11 with value: 0.8166666666666668.\n"
     ]
    },
    {
     "name": "stderr",
     "output_type": "stream",
     "text": [
      "[I 2024-12-22 23:22:11,714] Trial 17 finished with value: 0.9583333333333334 and parameters: {'n_estimators': 175, 'max_depth': 13, 'min_samples_split': 8, 'min_samples_leaf': 17}. Best is trial 11 with value: 0.8166666666666668.\n"
     ]
    },
    {
     "name": "stdout",
     "output_type": "stream",
     "text": [
      "Trial 17 finished with value: 0.9583333333333334 and parameters: {'n_estimators': 175, 'max_depth': 13, 'min_samples_split': 8, 'min_samples_leaf': 17}. Best is trial 11 with value: 0.8166666666666668.\n",
      "Trial 17 finished with value: 0.9583333333333334 and parameters: {'n_estimators': 175, 'max_depth': 13, 'min_samples_split': 8, 'min_samples_leaf': 17}. Best is trial 11 with value: 0.8166666666666668.\n",
      "Trial 17 finished with value: 0.9583333333333334 and parameters: {'n_estimators': 175, 'max_depth': 13, 'min_samples_split': 8, 'min_samples_leaf': 17}. Best is trial 11 with value: 0.8166666666666668.\n",
      "Trial 17 finished with value: 0.9583333333333334 and parameters: {'n_estimators': 175, 'max_depth': 13, 'min_samples_split': 8, 'min_samples_leaf': 17}. Best is trial 11 with value: 0.8166666666666668.\n"
     ]
    },
    {
     "name": "stderr",
     "output_type": "stream",
     "text": [
      "[I 2024-12-22 23:22:11,858] Trial 18 finished with value: 0.9416666666666668 and parameters: {'n_estimators': 122, 'max_depth': 26, 'min_samples_split': 18, 'min_samples_leaf': 10}. Best is trial 11 with value: 0.8166666666666668.\n"
     ]
    },
    {
     "name": "stdout",
     "output_type": "stream",
     "text": [
      "Trial 18 finished with value: 0.9416666666666668 and parameters: {'n_estimators': 122, 'max_depth': 26, 'min_samples_split': 18, 'min_samples_leaf': 10}. Best is trial 11 with value: 0.8166666666666668.\n",
      "Trial 18 finished with value: 0.9416666666666668 and parameters: {'n_estimators': 122, 'max_depth': 26, 'min_samples_split': 18, 'min_samples_leaf': 10}. Best is trial 11 with value: 0.8166666666666668.\n",
      "Trial 18 finished with value: 0.9416666666666668 and parameters: {'n_estimators': 122, 'max_depth': 26, 'min_samples_split': 18, 'min_samples_leaf': 10}. Best is trial 11 with value: 0.8166666666666668.\n",
      "Trial 18 finished with value: 0.9416666666666668 and parameters: {'n_estimators': 122, 'max_depth': 26, 'min_samples_split': 18, 'min_samples_leaf': 10}. Best is trial 11 with value: 0.8166666666666668.\n"
     ]
    },
    {
     "name": "stderr",
     "output_type": "stream",
     "text": [
      "[I 2024-12-22 23:22:11,970] Trial 19 finished with value: 0.8166666666666668 and parameters: {'n_estimators': 93, 'max_depth': 20, 'min_samples_split': 2, 'min_samples_leaf': 20}. Best is trial 11 with value: 0.8166666666666668.\n"
     ]
    },
    {
     "name": "stdout",
     "output_type": "stream",
     "text": [
      "Trial 19 finished with value: 0.8166666666666668 and parameters: {'n_estimators': 93, 'max_depth': 20, 'min_samples_split': 2, 'min_samples_leaf': 20}. Best is trial 11 with value: 0.8166666666666668.\n",
      "Trial 19 finished with value: 0.8166666666666668 and parameters: {'n_estimators': 93, 'max_depth': 20, 'min_samples_split': 2, 'min_samples_leaf': 20}. Best is trial 11 with value: 0.8166666666666668.\n",
      "Trial 19 finished with value: 0.8166666666666668 and parameters: {'n_estimators': 93, 'max_depth': 20, 'min_samples_split': 2, 'min_samples_leaf': 20}. Best is trial 11 with value: 0.8166666666666668.\n",
      "Trial 19 finished with value: 0.8166666666666668 and parameters: {'n_estimators': 93, 'max_depth': 20, 'min_samples_split': 2, 'min_samples_leaf': 20}. Best is trial 11 with value: 0.8166666666666668.\n"
     ]
    },
    {
     "name": "stderr",
     "output_type": "stream",
     "text": [
      "[I 2024-12-22 23:22:12,030] Trial 20 finished with value: 0.9416666666666668 and parameters: {'n_estimators': 19, 'max_depth': 15, 'min_samples_split': 18, 'min_samples_leaf': 17}. Best is trial 11 with value: 0.8166666666666668.\n"
     ]
    },
    {
     "name": "stdout",
     "output_type": "stream",
     "text": [
      "Trial 20 finished with value: 0.9416666666666668 and parameters: {'n_estimators': 19, 'max_depth': 15, 'min_samples_split': 18, 'min_samples_leaf': 17}. Best is trial 11 with value: 0.8166666666666668.\n",
      "Trial 20 finished with value: 0.9416666666666668 and parameters: {'n_estimators': 19, 'max_depth': 15, 'min_samples_split': 18, 'min_samples_leaf': 17}. Best is trial 11 with value: 0.8166666666666668.\n",
      "Trial 20 finished with value: 0.9416666666666668 and parameters: {'n_estimators': 19, 'max_depth': 15, 'min_samples_split': 18, 'min_samples_leaf': 17}. Best is trial 11 with value: 0.8166666666666668.\n",
      "Trial 20 finished with value: 0.9416666666666668 and parameters: {'n_estimators': 19, 'max_depth': 15, 'min_samples_split': 18, 'min_samples_leaf': 17}. Best is trial 11 with value: 0.8166666666666668.\n"
     ]
    },
    {
     "name": "stderr",
     "output_type": "stream",
     "text": [
      "[I 2024-12-22 23:22:12,162] Trial 21 finished with value: 0.8166666666666668 and parameters: {'n_estimators': 89, 'max_depth': 20, 'min_samples_split': 2, 'min_samples_leaf': 20}. Best is trial 11 with value: 0.8166666666666668.\n"
     ]
    },
    {
     "name": "stdout",
     "output_type": "stream",
     "text": [
      "Trial 21 finished with value: 0.8166666666666668 and parameters: {'n_estimators': 89, 'max_depth': 20, 'min_samples_split': 2, 'min_samples_leaf': 20}. Best is trial 11 with value: 0.8166666666666668.\n",
      "Trial 21 finished with value: 0.8166666666666668 and parameters: {'n_estimators': 89, 'max_depth': 20, 'min_samples_split': 2, 'min_samples_leaf': 20}. Best is trial 11 with value: 0.8166666666666668.\n",
      "Trial 21 finished with value: 0.8166666666666668 and parameters: {'n_estimators': 89, 'max_depth': 20, 'min_samples_split': 2, 'min_samples_leaf': 20}. Best is trial 11 with value: 0.8166666666666668.\n",
      "Trial 21 finished with value: 0.8166666666666668 and parameters: {'n_estimators': 89, 'max_depth': 20, 'min_samples_split': 2, 'min_samples_leaf': 20}. Best is trial 11 with value: 0.8166666666666668.\n"
     ]
    },
    {
     "name": "stderr",
     "output_type": "stream",
     "text": [
      "[I 2024-12-22 23:22:12,293] Trial 22 finished with value: 0.9166666666666666 and parameters: {'n_estimators': 129, 'max_depth': 21, 'min_samples_split': 4, 'min_samples_leaf': 18}. Best is trial 11 with value: 0.8166666666666668.\n"
     ]
    },
    {
     "name": "stdout",
     "output_type": "stream",
     "text": [
      "Trial 22 finished with value: 0.9166666666666666 and parameters: {'n_estimators': 129, 'max_depth': 21, 'min_samples_split': 4, 'min_samples_leaf': 18}. Best is trial 11 with value: 0.8166666666666668.\n",
      "Trial 22 finished with value: 0.9166666666666666 and parameters: {'n_estimators': 129, 'max_depth': 21, 'min_samples_split': 4, 'min_samples_leaf': 18}. Best is trial 11 with value: 0.8166666666666668.\n",
      "Trial 22 finished with value: 0.9166666666666666 and parameters: {'n_estimators': 129, 'max_depth': 21, 'min_samples_split': 4, 'min_samples_leaf': 18}. Best is trial 11 with value: 0.8166666666666668.\n",
      "Trial 22 finished with value: 0.9166666666666666 and parameters: {'n_estimators': 129, 'max_depth': 21, 'min_samples_split': 4, 'min_samples_leaf': 18}. Best is trial 11 with value: 0.8166666666666668.\n"
     ]
    },
    {
     "name": "stderr",
     "output_type": "stream",
     "text": [
      "[I 2024-12-22 23:22:12,464] Trial 23 finished with value: 0.8166666666666668 and parameters: {'n_estimators': 143, 'max_depth': 13, 'min_samples_split': 5, 'min_samples_leaf': 20}. Best is trial 11 with value: 0.8166666666666668.\n"
     ]
    },
    {
     "name": "stdout",
     "output_type": "stream",
     "text": [
      "Trial 23 finished with value: 0.8166666666666668 and parameters: {'n_estimators': 143, 'max_depth': 13, 'min_samples_split': 5, 'min_samples_leaf': 20}. Best is trial 11 with value: 0.8166666666666668.\n",
      "Trial 23 finished with value: 0.8166666666666668 and parameters: {'n_estimators': 143, 'max_depth': 13, 'min_samples_split': 5, 'min_samples_leaf': 20}. Best is trial 11 with value: 0.8166666666666668.\n",
      "Trial 23 finished with value: 0.8166666666666668 and parameters: {'n_estimators': 143, 'max_depth': 13, 'min_samples_split': 5, 'min_samples_leaf': 20}. Best is trial 11 with value: 0.8166666666666668.\n",
      "Trial 23 finished with value: 0.8166666666666668 and parameters: {'n_estimators': 143, 'max_depth': 13, 'min_samples_split': 5, 'min_samples_leaf': 20}. Best is trial 11 with value: 0.8166666666666668.\n"
     ]
    },
    {
     "name": "stderr",
     "output_type": "stream",
     "text": [
      "[I 2024-12-22 23:22:12,636] Trial 24 finished with value: 0.9500000000000001 and parameters: {'n_estimators': 173, 'max_depth': 24, 'min_samples_split': 6, 'min_samples_leaf': 16}. Best is trial 11 with value: 0.8166666666666668.\n"
     ]
    },
    {
     "name": "stdout",
     "output_type": "stream",
     "text": [
      "Trial 24 finished with value: 0.9500000000000001 and parameters: {'n_estimators': 173, 'max_depth': 24, 'min_samples_split': 6, 'min_samples_leaf': 16}. Best is trial 11 with value: 0.8166666666666668.\n",
      "Trial 24 finished with value: 0.9500000000000001 and parameters: {'n_estimators': 173, 'max_depth': 24, 'min_samples_split': 6, 'min_samples_leaf': 16}. Best is trial 11 with value: 0.8166666666666668.\n",
      "Trial 24 finished with value: 0.9500000000000001 and parameters: {'n_estimators': 173, 'max_depth': 24, 'min_samples_split': 6, 'min_samples_leaf': 16}. Best is trial 11 with value: 0.8166666666666668.\n",
      "Trial 24 finished with value: 0.9500000000000001 and parameters: {'n_estimators': 173, 'max_depth': 24, 'min_samples_split': 6, 'min_samples_leaf': 16}. Best is trial 11 with value: 0.8166666666666668.\n"
     ]
    },
    {
     "name": "stderr",
     "output_type": "stream",
     "text": [
      "[I 2024-12-22 23:22:12,763] Trial 25 finished with value: 0.9166666666666666 and parameters: {'n_estimators': 106, 'max_depth': 29, 'min_samples_split': 14, 'min_samples_leaf': 18}. Best is trial 11 with value: 0.8166666666666668.\n"
     ]
    },
    {
     "name": "stdout",
     "output_type": "stream",
     "text": [
      "Trial 25 finished with value: 0.9166666666666666 and parameters: {'n_estimators': 106, 'max_depth': 29, 'min_samples_split': 14, 'min_samples_leaf': 18}. Best is trial 11 with value: 0.8166666666666668.\n",
      "Trial 25 finished with value: 0.9166666666666666 and parameters: {'n_estimators': 106, 'max_depth': 29, 'min_samples_split': 14, 'min_samples_leaf': 18}. Best is trial 11 with value: 0.8166666666666668.\n",
      "Trial 25 finished with value: 0.9166666666666666 and parameters: {'n_estimators': 106, 'max_depth': 29, 'min_samples_split': 14, 'min_samples_leaf': 18}. Best is trial 11 with value: 0.8166666666666668.\n",
      "Trial 25 finished with value: 0.9166666666666666 and parameters: {'n_estimators': 106, 'max_depth': 29, 'min_samples_split': 14, 'min_samples_leaf': 18}. Best is trial 11 with value: 0.8166666666666668.\n"
     ]
    },
    {
     "name": "stderr",
     "output_type": "stream",
     "text": [
      "[I 2024-12-22 23:22:12,865] Trial 26 finished with value: 0.9500000000000001 and parameters: {'n_estimators': 86, 'max_depth': 19, 'min_samples_split': 8, 'min_samples_leaf': 15}. Best is trial 11 with value: 0.8166666666666668.\n"
     ]
    },
    {
     "name": "stdout",
     "output_type": "stream",
     "text": [
      "Trial 26 finished with value: 0.9500000000000001 and parameters: {'n_estimators': 86, 'max_depth': 19, 'min_samples_split': 8, 'min_samples_leaf': 15}. Best is trial 11 with value: 0.8166666666666668.\n",
      "Trial 26 finished with value: 0.9500000000000001 and parameters: {'n_estimators': 86, 'max_depth': 19, 'min_samples_split': 8, 'min_samples_leaf': 15}. Best is trial 11 with value: 0.8166666666666668.\n",
      "Trial 26 finished with value: 0.9500000000000001 and parameters: {'n_estimators': 86, 'max_depth': 19, 'min_samples_split': 8, 'min_samples_leaf': 15}. Best is trial 11 with value: 0.8166666666666668.\n",
      "Trial 26 finished with value: 0.9500000000000001 and parameters: {'n_estimators': 86, 'max_depth': 19, 'min_samples_split': 8, 'min_samples_leaf': 15}. Best is trial 11 with value: 0.8166666666666668.\n"
     ]
    },
    {
     "name": "stderr",
     "output_type": "stream",
     "text": [
      "[I 2024-12-22 23:22:13,066] Trial 27 finished with value: 0.9416666666666668 and parameters: {'n_estimators': 167, 'max_depth': 14, 'min_samples_split': 19, 'min_samples_leaf': 12}. Best is trial 11 with value: 0.8166666666666668.\n"
     ]
    },
    {
     "name": "stdout",
     "output_type": "stream",
     "text": [
      "Trial 27 finished with value: 0.9416666666666668 and parameters: {'n_estimators': 167, 'max_depth': 14, 'min_samples_split': 19, 'min_samples_leaf': 12}. Best is trial 11 with value: 0.8166666666666668.\n",
      "Trial 27 finished with value: 0.9416666666666668 and parameters: {'n_estimators': 167, 'max_depth': 14, 'min_samples_split': 19, 'min_samples_leaf': 12}. Best is trial 11 with value: 0.8166666666666668.\n",
      "Trial 27 finished with value: 0.9416666666666668 and parameters: {'n_estimators': 167, 'max_depth': 14, 'min_samples_split': 19, 'min_samples_leaf': 12}. Best is trial 11 with value: 0.8166666666666668.\n",
      "Trial 27 finished with value: 0.9416666666666668 and parameters: {'n_estimators': 167, 'max_depth': 14, 'min_samples_split': 19, 'min_samples_leaf': 12}. Best is trial 11 with value: 0.8166666666666668.\n"
     ]
    },
    {
     "name": "stderr",
     "output_type": "stream",
     "text": [
      "[I 2024-12-22 23:22:13,149] Trial 28 finished with value: 0.875 and parameters: {'n_estimators': 69, 'max_depth': 26, 'min_samples_split': 16, 'min_samples_leaf': 19}. Best is trial 11 with value: 0.8166666666666668.\n"
     ]
    },
    {
     "name": "stdout",
     "output_type": "stream",
     "text": [
      "Trial 28 finished with value: 0.875 and parameters: {'n_estimators': 69, 'max_depth': 26, 'min_samples_split': 16, 'min_samples_leaf': 19}. Best is trial 11 with value: 0.8166666666666668.\n",
      "Trial 28 finished with value: 0.875 and parameters: {'n_estimators': 69, 'max_depth': 26, 'min_samples_split': 16, 'min_samples_leaf': 19}. Best is trial 11 with value: 0.8166666666666668.\n",
      "Trial 28 finished with value: 0.875 and parameters: {'n_estimators': 69, 'max_depth': 26, 'min_samples_split': 16, 'min_samples_leaf': 19}. Best is trial 11 with value: 0.8166666666666668.\n",
      "Trial 28 finished with value: 0.875 and parameters: {'n_estimators': 69, 'max_depth': 26, 'min_samples_split': 16, 'min_samples_leaf': 19}. Best is trial 11 with value: 0.8166666666666668.\n"
     ]
    },
    {
     "name": "stderr",
     "output_type": "stream",
     "text": [
      "[I 2024-12-22 23:22:13,365] Trial 29 finished with value: 0.9166666666666666 and parameters: {'n_estimators': 183, 'max_depth': 23, 'min_samples_split': 10, 'min_samples_leaf': 18}. Best is trial 11 with value: 0.8166666666666668.\n"
     ]
    },
    {
     "name": "stdout",
     "output_type": "stream",
     "text": [
      "Trial 29 finished with value: 0.9166666666666666 and parameters: {'n_estimators': 183, 'max_depth': 23, 'min_samples_split': 10, 'min_samples_leaf': 18}. Best is trial 11 with value: 0.8166666666666668.\n",
      "Trial 29 finished with value: 0.9166666666666666 and parameters: {'n_estimators': 183, 'max_depth': 23, 'min_samples_split': 10, 'min_samples_leaf': 18}. Best is trial 11 with value: 0.8166666666666668.\n",
      "Trial 29 finished with value: 0.9166666666666666 and parameters: {'n_estimators': 183, 'max_depth': 23, 'min_samples_split': 10, 'min_samples_leaf': 18}. Best is trial 11 with value: 0.8166666666666668.\n",
      "Trial 29 finished with value: 0.9166666666666666 and parameters: {'n_estimators': 183, 'max_depth': 23, 'min_samples_split': 10, 'min_samples_leaf': 18}. Best is trial 11 with value: 0.8166666666666668.\n"
     ]
    },
    {
     "name": "stderr",
     "output_type": "stream",
     "text": [
      "[I 2024-12-22 23:22:13,534] Trial 30 finished with value: 0.9500000000000001 and parameters: {'n_estimators': 142, 'max_depth': 12, 'min_samples_split': 15, 'min_samples_leaf': 16}. Best is trial 11 with value: 0.8166666666666668.\n"
     ]
    },
    {
     "name": "stdout",
     "output_type": "stream",
     "text": [
      "Trial 30 finished with value: 0.9500000000000001 and parameters: {'n_estimators': 142, 'max_depth': 12, 'min_samples_split': 15, 'min_samples_leaf': 16}. Best is trial 11 with value: 0.8166666666666668.\n",
      "Trial 30 finished with value: 0.9500000000000001 and parameters: {'n_estimators': 142, 'max_depth': 12, 'min_samples_split': 15, 'min_samples_leaf': 16}. Best is trial 11 with value: 0.8166666666666668.\n",
      "Trial 30 finished with value: 0.9500000000000001 and parameters: {'n_estimators': 142, 'max_depth': 12, 'min_samples_split': 15, 'min_samples_leaf': 16}. Best is trial 11 with value: 0.8166666666666668.\n",
      "Trial 30 finished with value: 0.9500000000000001 and parameters: {'n_estimators': 142, 'max_depth': 12, 'min_samples_split': 15, 'min_samples_leaf': 16}. Best is trial 11 with value: 0.8166666666666668.\n"
     ]
    },
    {
     "name": "stderr",
     "output_type": "stream",
     "text": [
      "[I 2024-12-22 23:22:13,636] Trial 31 finished with value: 0.8166666666666668 and parameters: {'n_estimators': 93, 'max_depth': 21, 'min_samples_split': 2, 'min_samples_leaf': 20}. Best is trial 11 with value: 0.8166666666666668.\n"
     ]
    },
    {
     "name": "stdout",
     "output_type": "stream",
     "text": [
      "Trial 31 finished with value: 0.8166666666666668 and parameters: {'n_estimators': 93, 'max_depth': 21, 'min_samples_split': 2, 'min_samples_leaf': 20}. Best is trial 11 with value: 0.8166666666666668.\n",
      "Trial 31 finished with value: 0.8166666666666668 and parameters: {'n_estimators': 93, 'max_depth': 21, 'min_samples_split': 2, 'min_samples_leaf': 20}. Best is trial 11 with value: 0.8166666666666668.\n",
      "Trial 31 finished with value: 0.8166666666666668 and parameters: {'n_estimators': 93, 'max_depth': 21, 'min_samples_split': 2, 'min_samples_leaf': 20}. Best is trial 11 with value: 0.8166666666666668.\n",
      "Trial 31 finished with value: 0.8166666666666668 and parameters: {'n_estimators': 93, 'max_depth': 21, 'min_samples_split': 2, 'min_samples_leaf': 20}. Best is trial 11 with value: 0.8166666666666668.\n"
     ]
    },
    {
     "name": "stderr",
     "output_type": "stream",
     "text": [
      "[I 2024-12-22 23:22:13,718] Trial 32 finished with value: 0.8333333333333334 and parameters: {'n_estimators': 64, 'max_depth': 19, 'min_samples_split': 2, 'min_samples_leaf': 20}. Best is trial 11 with value: 0.8166666666666668.\n"
     ]
    },
    {
     "name": "stdout",
     "output_type": "stream",
     "text": [
      "Trial 32 finished with value: 0.8333333333333334 and parameters: {'n_estimators': 64, 'max_depth': 19, 'min_samples_split': 2, 'min_samples_leaf': 20}. Best is trial 11 with value: 0.8166666666666668.\n",
      "Trial 32 finished with value: 0.8333333333333334 and parameters: {'n_estimators': 64, 'max_depth': 19, 'min_samples_split': 2, 'min_samples_leaf': 20}. Best is trial 11 with value: 0.8166666666666668.\n",
      "Trial 32 finished with value: 0.8333333333333334 and parameters: {'n_estimators': 64, 'max_depth': 19, 'min_samples_split': 2, 'min_samples_leaf': 20}. Best is trial 11 with value: 0.8166666666666668.\n",
      "Trial 32 finished with value: 0.8333333333333334 and parameters: {'n_estimators': 64, 'max_depth': 19, 'min_samples_split': 2, 'min_samples_leaf': 20}. Best is trial 11 with value: 0.8166666666666668.\n"
     ]
    },
    {
     "name": "stderr",
     "output_type": "stream",
     "text": [
      "[I 2024-12-22 23:22:13,863] Trial 33 finished with value: 0.9166666666666666 and parameters: {'n_estimators': 97, 'max_depth': 10, 'min_samples_split': 6, 'min_samples_leaf': 18}. Best is trial 11 with value: 0.8166666666666668.\n"
     ]
    },
    {
     "name": "stdout",
     "output_type": "stream",
     "text": [
      "Trial 33 finished with value: 0.9166666666666666 and parameters: {'n_estimators': 97, 'max_depth': 10, 'min_samples_split': 6, 'min_samples_leaf': 18}. Best is trial 11 with value: 0.8166666666666668.\n",
      "Trial 33 finished with value: 0.9166666666666666 and parameters: {'n_estimators': 97, 'max_depth': 10, 'min_samples_split': 6, 'min_samples_leaf': 18}. Best is trial 11 with value: 0.8166666666666668.\n",
      "Trial 33 finished with value: 0.9166666666666666 and parameters: {'n_estimators': 97, 'max_depth': 10, 'min_samples_split': 6, 'min_samples_leaf': 18}. Best is trial 11 with value: 0.8166666666666668.\n",
      "Trial 33 finished with value: 0.9166666666666666 and parameters: {'n_estimators': 97, 'max_depth': 10, 'min_samples_split': 6, 'min_samples_leaf': 18}. Best is trial 11 with value: 0.8166666666666668.\n"
     ]
    },
    {
     "name": "stderr",
     "output_type": "stream",
     "text": [
      "[I 2024-12-22 23:22:13,999] Trial 34 finished with value: 0.8166666666666668 and parameters: {'n_estimators': 115, 'max_depth': 20, 'min_samples_split': 3, 'min_samples_leaf': 20}. Best is trial 11 with value: 0.8166666666666668.\n"
     ]
    },
    {
     "name": "stdout",
     "output_type": "stream",
     "text": [
      "Trial 34 finished with value: 0.8166666666666668 and parameters: {'n_estimators': 115, 'max_depth': 20, 'min_samples_split': 3, 'min_samples_leaf': 20}. Best is trial 11 with value: 0.8166666666666668.\n",
      "Trial 34 finished with value: 0.8166666666666668 and parameters: {'n_estimators': 115, 'max_depth': 20, 'min_samples_split': 3, 'min_samples_leaf': 20}. Best is trial 11 with value: 0.8166666666666668.\n",
      "Trial 34 finished with value: 0.8166666666666668 and parameters: {'n_estimators': 115, 'max_depth': 20, 'min_samples_split': 3, 'min_samples_leaf': 20}. Best is trial 11 with value: 0.8166666666666668.\n",
      "Trial 34 finished with value: 0.8166666666666668 and parameters: {'n_estimators': 115, 'max_depth': 20, 'min_samples_split': 3, 'min_samples_leaf': 20}. Best is trial 11 with value: 0.8166666666666668.\n"
     ]
    },
    {
     "name": "stderr",
     "output_type": "stream",
     "text": [
      "[I 2024-12-22 23:22:14,093] Trial 35 finished with value: 0.9583333333333334 and parameters: {'n_estimators': 74, 'max_depth': 23, 'min_samples_split': 4, 'min_samples_leaf': 9}. Best is trial 11 with value: 0.8166666666666668.\n"
     ]
    },
    {
     "name": "stdout",
     "output_type": "stream",
     "text": [
      "Trial 35 finished with value: 0.9583333333333334 and parameters: {'n_estimators': 74, 'max_depth': 23, 'min_samples_split': 4, 'min_samples_leaf': 9}. Best is trial 11 with value: 0.8166666666666668.\n",
      "Trial 35 finished with value: 0.9583333333333334 and parameters: {'n_estimators': 74, 'max_depth': 23, 'min_samples_split': 4, 'min_samples_leaf': 9}. Best is trial 11 with value: 0.8166666666666668.\n",
      "Trial 35 finished with value: 0.9583333333333334 and parameters: {'n_estimators': 74, 'max_depth': 23, 'min_samples_split': 4, 'min_samples_leaf': 9}. Best is trial 11 with value: 0.8166666666666668.\n",
      "Trial 35 finished with value: 0.9583333333333334 and parameters: {'n_estimators': 74, 'max_depth': 23, 'min_samples_split': 4, 'min_samples_leaf': 9}. Best is trial 11 with value: 0.8166666666666668.\n"
     ]
    },
    {
     "name": "stderr",
     "output_type": "stream",
     "text": [
      "[I 2024-12-22 23:22:14,180] Trial 36 finished with value: 0.9499999999999998 and parameters: {'n_estimators': 53, 'max_depth': 27, 'min_samples_split': 18, 'min_samples_leaf': 17}. Best is trial 11 with value: 0.8166666666666668.\n"
     ]
    },
    {
     "name": "stdout",
     "output_type": "stream",
     "text": [
      "Trial 36 finished with value: 0.9499999999999998 and parameters: {'n_estimators': 53, 'max_depth': 27, 'min_samples_split': 18, 'min_samples_leaf': 17}. Best is trial 11 with value: 0.8166666666666668.\n",
      "Trial 36 finished with value: 0.9499999999999998 and parameters: {'n_estimators': 53, 'max_depth': 27, 'min_samples_split': 18, 'min_samples_leaf': 17}. Best is trial 11 with value: 0.8166666666666668.\n",
      "Trial 36 finished with value: 0.9499999999999998 and parameters: {'n_estimators': 53, 'max_depth': 27, 'min_samples_split': 18, 'min_samples_leaf': 17}. Best is trial 11 with value: 0.8166666666666668.\n",
      "Trial 36 finished with value: 0.9499999999999998 and parameters: {'n_estimators': 53, 'max_depth': 27, 'min_samples_split': 18, 'min_samples_leaf': 17}. Best is trial 11 with value: 0.8166666666666668.\n"
     ]
    },
    {
     "name": "stderr",
     "output_type": "stream",
     "text": [
      "[I 2024-12-22 23:22:14,287] Trial 37 finished with value: 0.8916666666666666 and parameters: {'n_estimators': 84, 'max_depth': 17, 'min_samples_split': 6, 'min_samples_leaf': 19}. Best is trial 11 with value: 0.8166666666666668.\n"
     ]
    },
    {
     "name": "stdout",
     "output_type": "stream",
     "text": [
      "Trial 37 finished with value: 0.8916666666666666 and parameters: {'n_estimators': 84, 'max_depth': 17, 'min_samples_split': 6, 'min_samples_leaf': 19}. Best is trial 11 with value: 0.8166666666666668.\n",
      "Trial 37 finished with value: 0.8916666666666666 and parameters: {'n_estimators': 84, 'max_depth': 17, 'min_samples_split': 6, 'min_samples_leaf': 19}. Best is trial 11 with value: 0.8166666666666668.\n",
      "Trial 37 finished with value: 0.8916666666666666 and parameters: {'n_estimators': 84, 'max_depth': 17, 'min_samples_split': 6, 'min_samples_leaf': 19}. Best is trial 11 with value: 0.8166666666666668.\n",
      "Trial 37 finished with value: 0.8916666666666666 and parameters: {'n_estimators': 84, 'max_depth': 17, 'min_samples_split': 6, 'min_samples_leaf': 19}. Best is trial 11 with value: 0.8166666666666668.\n"
     ]
    },
    {
     "name": "stderr",
     "output_type": "stream",
     "text": [
      "[I 2024-12-22 23:22:14,351] Trial 38 finished with value: 0.9416666666666668 and parameters: {'n_estimators': 35, 'max_depth': 5, 'min_samples_split': 3, 'min_samples_leaf': 15}. Best is trial 11 with value: 0.8166666666666668.\n"
     ]
    },
    {
     "name": "stdout",
     "output_type": "stream",
     "text": [
      "Trial 38 finished with value: 0.9416666666666668 and parameters: {'n_estimators': 35, 'max_depth': 5, 'min_samples_split': 3, 'min_samples_leaf': 15}. Best is trial 11 with value: 0.8166666666666668.\n",
      "Trial 38 finished with value: 0.9416666666666668 and parameters: {'n_estimators': 35, 'max_depth': 5, 'min_samples_split': 3, 'min_samples_leaf': 15}. Best is trial 11 with value: 0.8166666666666668.\n",
      "Trial 38 finished with value: 0.9416666666666668 and parameters: {'n_estimators': 35, 'max_depth': 5, 'min_samples_split': 3, 'min_samples_leaf': 15}. Best is trial 11 with value: 0.8166666666666668.\n",
      "Trial 38 finished with value: 0.9416666666666668 and parameters: {'n_estimators': 35, 'max_depth': 5, 'min_samples_split': 3, 'min_samples_leaf': 15}. Best is trial 11 with value: 0.8166666666666668.\n"
     ]
    },
    {
     "name": "stderr",
     "output_type": "stream",
     "text": [
      "[I 2024-12-22 23:22:14,447] Trial 39 finished with value: 0.9083333333333332 and parameters: {'n_estimators': 55, 'max_depth': 2, 'min_samples_split': 11, 'min_samples_leaf': 18}. Best is trial 11 with value: 0.8166666666666668.\n"
     ]
    },
    {
     "name": "stdout",
     "output_type": "stream",
     "text": [
      "Trial 39 finished with value: 0.9083333333333332 and parameters: {'n_estimators': 55, 'max_depth': 2, 'min_samples_split': 11, 'min_samples_leaf': 18}. Best is trial 11 with value: 0.8166666666666668.\n",
      "Trial 39 finished with value: 0.9083333333333332 and parameters: {'n_estimators': 55, 'max_depth': 2, 'min_samples_split': 11, 'min_samples_leaf': 18}. Best is trial 11 with value: 0.8166666666666668.\n",
      "Trial 39 finished with value: 0.9083333333333332 and parameters: {'n_estimators': 55, 'max_depth': 2, 'min_samples_split': 11, 'min_samples_leaf': 18}. Best is trial 11 with value: 0.8166666666666668.\n",
      "Trial 39 finished with value: 0.9083333333333332 and parameters: {'n_estimators': 55, 'max_depth': 2, 'min_samples_split': 11, 'min_samples_leaf': 18}. Best is trial 11 with value: 0.8166666666666668.\n"
     ]
    },
    {
     "name": "stderr",
     "output_type": "stream",
     "text": [
      "[I 2024-12-22 23:22:14,623] Trial 40 finished with value: 0.875 and parameters: {'n_estimators': 184, 'max_depth': 30, 'min_samples_split': 14, 'min_samples_leaf': 19}. Best is trial 11 with value: 0.8166666666666668.\n"
     ]
    },
    {
     "name": "stdout",
     "output_type": "stream",
     "text": [
      "Trial 40 finished with value: 0.875 and parameters: {'n_estimators': 184, 'max_depth': 30, 'min_samples_split': 14, 'min_samples_leaf': 19}. Best is trial 11 with value: 0.8166666666666668.\n",
      "Trial 40 finished with value: 0.875 and parameters: {'n_estimators': 184, 'max_depth': 30, 'min_samples_split': 14, 'min_samples_leaf': 19}. Best is trial 11 with value: 0.8166666666666668.\n",
      "Trial 40 finished with value: 0.875 and parameters: {'n_estimators': 184, 'max_depth': 30, 'min_samples_split': 14, 'min_samples_leaf': 19}. Best is trial 11 with value: 0.8166666666666668.\n",
      "Trial 40 finished with value: 0.875 and parameters: {'n_estimators': 184, 'max_depth': 30, 'min_samples_split': 14, 'min_samples_leaf': 19}. Best is trial 11 with value: 0.8166666666666668.\n"
     ]
    },
    {
     "name": "stderr",
     "output_type": "stream",
     "text": [
      "[I 2024-12-22 23:22:14,787] Trial 41 finished with value: 0.8166666666666668 and parameters: {'n_estimators': 138, 'max_depth': 11, 'min_samples_split': 5, 'min_samples_leaf': 20}. Best is trial 11 with value: 0.8166666666666668.\n"
     ]
    },
    {
     "name": "stdout",
     "output_type": "stream",
     "text": [
      "Trial 41 finished with value: 0.8166666666666668 and parameters: {'n_estimators': 138, 'max_depth': 11, 'min_samples_split': 5, 'min_samples_leaf': 20}. Best is trial 11 with value: 0.8166666666666668.\n",
      "Trial 41 finished with value: 0.8166666666666668 and parameters: {'n_estimators': 138, 'max_depth': 11, 'min_samples_split': 5, 'min_samples_leaf': 20}. Best is trial 11 with value: 0.8166666666666668.\n",
      "Trial 41 finished with value: 0.8166666666666668 and parameters: {'n_estimators': 138, 'max_depth': 11, 'min_samples_split': 5, 'min_samples_leaf': 20}. Best is trial 11 with value: 0.8166666666666668.\n",
      "Trial 41 finished with value: 0.8166666666666668 and parameters: {'n_estimators': 138, 'max_depth': 11, 'min_samples_split': 5, 'min_samples_leaf': 20}. Best is trial 11 with value: 0.8166666666666668.\n"
     ]
    },
    {
     "name": "stderr",
     "output_type": "stream",
     "text": [
      "[I 2024-12-22 23:22:14,974] Trial 42 finished with value: 0.9583333333333334 and parameters: {'n_estimators': 149, 'max_depth': 15, 'min_samples_split': 2, 'min_samples_leaf': 7}. Best is trial 11 with value: 0.8166666666666668.\n"
     ]
    },
    {
     "name": "stdout",
     "output_type": "stream",
     "text": [
      "Trial 42 finished with value: 0.9583333333333334 and parameters: {'n_estimators': 149, 'max_depth': 15, 'min_samples_split': 2, 'min_samples_leaf': 7}. Best is trial 11 with value: 0.8166666666666668.\n",
      "Trial 42 finished with value: 0.9583333333333334 and parameters: {'n_estimators': 149, 'max_depth': 15, 'min_samples_split': 2, 'min_samples_leaf': 7}. Best is trial 11 with value: 0.8166666666666668.\n",
      "Trial 42 finished with value: 0.9583333333333334 and parameters: {'n_estimators': 149, 'max_depth': 15, 'min_samples_split': 2, 'min_samples_leaf': 7}. Best is trial 11 with value: 0.8166666666666668.\n",
      "Trial 42 finished with value: 0.9583333333333334 and parameters: {'n_estimators': 149, 'max_depth': 15, 'min_samples_split': 2, 'min_samples_leaf': 7}. Best is trial 11 with value: 0.8166666666666668.\n"
     ]
    },
    {
     "name": "stderr",
     "output_type": "stream",
     "text": [
      "[I 2024-12-22 23:22:15,129] Trial 43 finished with value: 0.8166666666666668 and parameters: {'n_estimators': 158, 'max_depth': 25, 'min_samples_split': 4, 'min_samples_leaf': 20}. Best is trial 11 with value: 0.8166666666666668.\n"
     ]
    },
    {
     "name": "stdout",
     "output_type": "stream",
     "text": [
      "Trial 43 finished with value: 0.8166666666666668 and parameters: {'n_estimators': 158, 'max_depth': 25, 'min_samples_split': 4, 'min_samples_leaf': 20}. Best is trial 11 with value: 0.8166666666666668.\n",
      "Trial 43 finished with value: 0.8166666666666668 and parameters: {'n_estimators': 158, 'max_depth': 25, 'min_samples_split': 4, 'min_samples_leaf': 20}. Best is trial 11 with value: 0.8166666666666668.\n",
      "Trial 43 finished with value: 0.8166666666666668 and parameters: {'n_estimators': 158, 'max_depth': 25, 'min_samples_split': 4, 'min_samples_leaf': 20}. Best is trial 11 with value: 0.8166666666666668.\n",
      "Trial 43 finished with value: 0.8166666666666668 and parameters: {'n_estimators': 158, 'max_depth': 25, 'min_samples_split': 4, 'min_samples_leaf': 20}. Best is trial 11 with value: 0.8166666666666668.\n"
     ]
    },
    {
     "name": "stderr",
     "output_type": "stream",
     "text": [
      "[I 2024-12-22 23:22:15,267] Trial 44 finished with value: 0.8833333333333333 and parameters: {'n_estimators': 118, 'max_depth': 9, 'min_samples_split': 5, 'min_samples_leaf': 19}. Best is trial 11 with value: 0.8166666666666668.\n"
     ]
    },
    {
     "name": "stdout",
     "output_type": "stream",
     "text": [
      "Trial 44 finished with value: 0.8833333333333333 and parameters: {'n_estimators': 118, 'max_depth': 9, 'min_samples_split': 5, 'min_samples_leaf': 19}. Best is trial 11 with value: 0.8166666666666668.\n",
      "Trial 44 finished with value: 0.8833333333333333 and parameters: {'n_estimators': 118, 'max_depth': 9, 'min_samples_split': 5, 'min_samples_leaf': 19}. Best is trial 11 with value: 0.8166666666666668.\n",
      "Trial 44 finished with value: 0.8833333333333333 and parameters: {'n_estimators': 118, 'max_depth': 9, 'min_samples_split': 5, 'min_samples_leaf': 19}. Best is trial 11 with value: 0.8166666666666668.\n",
      "Trial 44 finished with value: 0.8833333333333333 and parameters: {'n_estimators': 118, 'max_depth': 9, 'min_samples_split': 5, 'min_samples_leaf': 19}. Best is trial 11 with value: 0.8166666666666668.\n"
     ]
    },
    {
     "name": "stderr",
     "output_type": "stream",
     "text": [
      "[I 2024-12-22 23:22:15,478] Trial 45 finished with value: 0.9499999999999998 and parameters: {'n_estimators': 200, 'max_depth': 18, 'min_samples_split': 7, 'min_samples_leaf': 17}. Best is trial 11 with value: 0.8166666666666668.\n"
     ]
    },
    {
     "name": "stdout",
     "output_type": "stream",
     "text": [
      "Trial 45 finished with value: 0.9499999999999998 and parameters: {'n_estimators': 200, 'max_depth': 18, 'min_samples_split': 7, 'min_samples_leaf': 17}. Best is trial 11 with value: 0.8166666666666668.\n",
      "Trial 45 finished with value: 0.9499999999999998 and parameters: {'n_estimators': 200, 'max_depth': 18, 'min_samples_split': 7, 'min_samples_leaf': 17}. Best is trial 11 with value: 0.8166666666666668.\n",
      "Trial 45 finished with value: 0.9499999999999998 and parameters: {'n_estimators': 200, 'max_depth': 18, 'min_samples_split': 7, 'min_samples_leaf': 17}. Best is trial 11 with value: 0.8166666666666668.\n",
      "Trial 45 finished with value: 0.9499999999999998 and parameters: {'n_estimators': 200, 'max_depth': 18, 'min_samples_split': 7, 'min_samples_leaf': 17}. Best is trial 11 with value: 0.8166666666666668.\n"
     ]
    },
    {
     "name": "stderr",
     "output_type": "stream",
     "text": [
      "[I 2024-12-22 23:22:15,616] Trial 46 finished with value: 0.9583333333333334 and parameters: {'n_estimators': 131, 'max_depth': 22, 'min_samples_split': 3, 'min_samples_leaf': 13}. Best is trial 11 with value: 0.8166666666666668.\n"
     ]
    },
    {
     "name": "stdout",
     "output_type": "stream",
     "text": [
      "Trial 46 finished with value: 0.9583333333333334 and parameters: {'n_estimators': 131, 'max_depth': 22, 'min_samples_split': 3, 'min_samples_leaf': 13}. Best is trial 11 with value: 0.8166666666666668.\n",
      "Trial 46 finished with value: 0.9583333333333334 and parameters: {'n_estimators': 131, 'max_depth': 22, 'min_samples_split': 3, 'min_samples_leaf': 13}. Best is trial 11 with value: 0.8166666666666668.\n",
      "Trial 46 finished with value: 0.9583333333333334 and parameters: {'n_estimators': 131, 'max_depth': 22, 'min_samples_split': 3, 'min_samples_leaf': 13}. Best is trial 11 with value: 0.8166666666666668.\n",
      "Trial 46 finished with value: 0.9583333333333334 and parameters: {'n_estimators': 131, 'max_depth': 22, 'min_samples_split': 3, 'min_samples_leaf': 13}. Best is trial 11 with value: 0.8166666666666668.\n"
     ]
    },
    {
     "name": "stderr",
     "output_type": "stream",
     "text": [
      "[I 2024-12-22 23:22:15,744] Trial 47 finished with value: 0.8166666666666668 and parameters: {'n_estimators': 92, 'max_depth': 28, 'min_samples_split': 19, 'min_samples_leaf': 20}. Best is trial 11 with value: 0.8166666666666668.\n"
     ]
    },
    {
     "name": "stdout",
     "output_type": "stream",
     "text": [
      "Trial 47 finished with value: 0.8166666666666668 and parameters: {'n_estimators': 92, 'max_depth': 28, 'min_samples_split': 19, 'min_samples_leaf': 20}. Best is trial 11 with value: 0.8166666666666668.\n",
      "Trial 47 finished with value: 0.8166666666666668 and parameters: {'n_estimators': 92, 'max_depth': 28, 'min_samples_split': 19, 'min_samples_leaf': 20}. Best is trial 11 with value: 0.8166666666666668.\n",
      "Trial 47 finished with value: 0.8166666666666668 and parameters: {'n_estimators': 92, 'max_depth': 28, 'min_samples_split': 19, 'min_samples_leaf': 20}. Best is trial 11 with value: 0.8166666666666668.\n",
      "Trial 47 finished with value: 0.8166666666666668 and parameters: {'n_estimators': 92, 'max_depth': 28, 'min_samples_split': 19, 'min_samples_leaf': 20}. Best is trial 11 with value: 0.8166666666666668.\n"
     ]
    },
    {
     "name": "stderr",
     "output_type": "stream",
     "text": [
      "[I 2024-12-22 23:22:15,940] Trial 48 finished with value: 0.875 and parameters: {'n_estimators': 164, 'max_depth': 13, 'min_samples_split': 2, 'min_samples_leaf': 19}. Best is trial 11 with value: 0.8166666666666668.\n"
     ]
    },
    {
     "name": "stdout",
     "output_type": "stream",
     "text": [
      "Trial 48 finished with value: 0.875 and parameters: {'n_estimators': 164, 'max_depth': 13, 'min_samples_split': 2, 'min_samples_leaf': 19}. Best is trial 11 with value: 0.8166666666666668.\n",
      "Trial 48 finished with value: 0.875 and parameters: {'n_estimators': 164, 'max_depth': 13, 'min_samples_split': 2, 'min_samples_leaf': 19}. Best is trial 11 with value: 0.8166666666666668.\n",
      "Trial 48 finished with value: 0.875 and parameters: {'n_estimators': 164, 'max_depth': 13, 'min_samples_split': 2, 'min_samples_leaf': 19}. Best is trial 11 with value: 0.8166666666666668.\n",
      "Trial 48 finished with value: 0.875 and parameters: {'n_estimators': 164, 'max_depth': 13, 'min_samples_split': 2, 'min_samples_leaf': 19}. Best is trial 11 with value: 0.8166666666666668.\n"
     ]
    },
    {
     "name": "stderr",
     "output_type": "stream",
     "text": [
      "[I 2024-12-22 23:22:16,083] Trial 49 finished with value: 0.9583333333333334 and parameters: {'n_estimators': 144, 'max_depth': 31, 'min_samples_split': 9, 'min_samples_leaf': 15}. Best is trial 11 with value: 0.8166666666666668.\n"
     ]
    },
    {
     "name": "stdout",
     "output_type": "stream",
     "text": [
      "Trial 49 finished with value: 0.9583333333333334 and parameters: {'n_estimators': 144, 'max_depth': 31, 'min_samples_split': 9, 'min_samples_leaf': 15}. Best is trial 11 with value: 0.8166666666666668.\n",
      "Trial 49 finished with value: 0.9583333333333334 and parameters: {'n_estimators': 144, 'max_depth': 31, 'min_samples_split': 9, 'min_samples_leaf': 15}. Best is trial 11 with value: 0.8166666666666668.\n",
      "Trial 49 finished with value: 0.9583333333333334 and parameters: {'n_estimators': 144, 'max_depth': 31, 'min_samples_split': 9, 'min_samples_leaf': 15}. Best is trial 11 with value: 0.8166666666666668.\n",
      "Trial 49 finished with value: 0.9583333333333334 and parameters: {'n_estimators': 144, 'max_depth': 31, 'min_samples_split': 9, 'min_samples_leaf': 15}. Best is trial 11 with value: 0.8166666666666668.\n",
      "Лучшие гиперпараметры:\n",
      "{'n_estimators': 146, 'max_depth': 32, 'min_samples_split': 19, 'min_samples_leaf': 20}\n"
     ]
    }
   ],
   "source": [
    "import optuna\n",
    "from sklearn.datasets import load_iris\n",
    "from sklearn.ensemble import RandomForestClassifier\n",
    "from sklearn.model_selection import cross_val_score, train_test_split\n",
    "\n",
    "\n",
    "data = load_iris()\n",
    "X_train, X_test, y_train, y_test = train_test_split(data.data, data.target, test_size=0.2, random_state=42)\n",
    "\n",
    "\n",
    "def objective(trial):\n",
    "    n_estimators = trial.suggest_int('n_estimators', 10, 200)\n",
    "    max_depth = trial.suggest_int('max_depth', 2, 32)\n",
    "    min_samples_split = trial.suggest_int('min_samples_split', 2, 20)\n",
    "    min_samples_leaf = trial.suggest_int('min_samples_leaf', 1, 20)\n",
    "\n",
    "    clf = RandomForestClassifier(\n",
    "        n_estimators=n_estimators, max_depth=max_depth,\n",
    "        min_samples_split=min_samples_split, min_samples_leaf=min_samples_leaf,\n",
    "        random_state=42\n",
    "    )\n",
    "\n",
    "    score = cross_val_score(clf, X_train, y_train, cv=3, n_jobs=-1, scoring='accuracy').mean()\n",
    "    return score\n",
    "\n",
    "\n",
    "\n",
    "study = optuna.create_study(sampler=optuna.samplers.TPESampler(), pruner=optuna.pruners.HyperbandPruner())\n",
    "study.optimize(objective, n_trials=50)\n",
    "\n",
    "print(\"Лучшие гиперпараметры:\")\n",
    "print(study.best_params)\n"
   ]
  }
 ],
 "metadata": {
  "kernelspec": {
   "display_name": "Ai_fund_lab",
   "language": "python",
   "name": "python3"
  },
  "language_info": {
   "codemirror_mode": {
    "name": "ipython",
    "version": 3
   },
   "file_extension": ".py",
   "mimetype": "text/x-python",
   "name": "python",
   "nbconvert_exporter": "python",
   "pygments_lexer": "ipython3",
   "version": "3.12.7"
  }
 },
 "nbformat": 4,
 "nbformat_minor": 2
}
